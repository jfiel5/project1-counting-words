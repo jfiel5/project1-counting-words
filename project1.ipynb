{
 "cells": [
  {
   "cell_type": "markdown",
   "metadata": {},
   "source": [
    "# Project 1: Counting words in college subreddits"
   ]
  },
  {
   "cell_type": "markdown",
   "metadata": {},
   "source": [
    "Due 9/16. Reminder that you are allowed to use any amount of AI assistance or outside resources with citation"
   ]
  },
  {
   "cell_type": "markdown",
   "metadata": {},
   "source": [
    "## Part 1: word counting and bag of words"
   ]
  },
  {
   "cell_type": "code",
   "execution_count": 163,
   "metadata": {},
   "outputs": [
    {
     "name": "stdout",
     "output_type": "stream",
     "text": [
      "Requirement already satisfied: spacy in c:\\users\\jacob\\anaconda3\\envs\\is310\\lib\\site-packages (3.8.3)\n",
      "Requirement already satisfied: spacy-legacy<3.1.0,>=3.0.11 in c:\\users\\jacob\\anaconda3\\envs\\is310\\lib\\site-packages (from spacy) (3.0.12)\n",
      "Requirement already satisfied: spacy-loggers<2.0.0,>=1.0.0 in c:\\users\\jacob\\anaconda3\\envs\\is310\\lib\\site-packages (from spacy) (1.0.5)\n",
      "Requirement already satisfied: murmurhash<1.1.0,>=0.28.0 in c:\\users\\jacob\\anaconda3\\envs\\is310\\lib\\site-packages (from spacy) (1.0.12)\n",
      "Requirement already satisfied: cymem<2.1.0,>=2.0.2 in c:\\users\\jacob\\anaconda3\\envs\\is310\\lib\\site-packages (from spacy) (2.0.11)\n",
      "Requirement already satisfied: preshed<3.1.0,>=3.0.2 in c:\\users\\jacob\\anaconda3\\envs\\is310\\lib\\site-packages (from spacy) (3.0.9)\n",
      "Requirement already satisfied: thinc<8.4.0,>=8.3.0 in c:\\users\\jacob\\anaconda3\\envs\\is310\\lib\\site-packages (from spacy) (8.3.4)\n",
      "Requirement already satisfied: wasabi<1.2.0,>=0.9.1 in c:\\users\\jacob\\anaconda3\\envs\\is310\\lib\\site-packages (from spacy) (1.1.3)\n",
      "Requirement already satisfied: srsly<3.0.0,>=2.4.3 in c:\\users\\jacob\\anaconda3\\envs\\is310\\lib\\site-packages (from spacy) (2.5.1)\n",
      "Requirement already satisfied: catalogue<2.1.0,>=2.0.6 in c:\\users\\jacob\\anaconda3\\envs\\is310\\lib\\site-packages (from spacy) (2.0.10)\n",
      "Requirement already satisfied: weasel<0.5.0,>=0.1.0 in c:\\users\\jacob\\anaconda3\\envs\\is310\\lib\\site-packages (from spacy) (0.4.1)\n",
      "Requirement already satisfied: typer<1.0.0,>=0.3.0 in c:\\users\\jacob\\anaconda3\\envs\\is310\\lib\\site-packages (from spacy) (0.15.1)\n",
      "Requirement already satisfied: tqdm<5.0.0,>=4.38.0 in c:\\users\\jacob\\anaconda3\\envs\\is310\\lib\\site-packages (from spacy) (4.66.5)\n",
      "Requirement already satisfied: numpy>=1.19.0 in c:\\users\\jacob\\anaconda3\\envs\\is310\\lib\\site-packages (from spacy) (1.26.4)\n",
      "Requirement already satisfied: requests<3.0.0,>=2.13.0 in c:\\users\\jacob\\anaconda3\\envs\\is310\\lib\\site-packages (from spacy) (2.32.3)\n",
      "Requirement already satisfied: pydantic!=1.8,!=1.8.1,<3.0.0,>=1.7.4 in c:\\users\\jacob\\anaconda3\\envs\\is310\\lib\\site-packages (from spacy) (2.10.6)\n",
      "Requirement already satisfied: jinja2 in c:\\users\\jacob\\anaconda3\\envs\\is310\\lib\\site-packages (from spacy) (3.1.5)\n",
      "Requirement already satisfied: setuptools in c:\\users\\jacob\\anaconda3\\envs\\is310\\lib\\site-packages (from spacy) (72.1.0)\n",
      "Requirement already satisfied: packaging>=20.0 in c:\\users\\jacob\\anaconda3\\envs\\is310\\lib\\site-packages (from spacy) (24.2)\n",
      "Requirement already satisfied: langcodes<4.0.0,>=3.2.0 in c:\\users\\jacob\\anaconda3\\envs\\is310\\lib\\site-packages (from spacy) (3.5.0)\n",
      "Requirement already satisfied: language-data>=1.2 in c:\\users\\jacob\\anaconda3\\envs\\is310\\lib\\site-packages (from langcodes<4.0.0,>=3.2.0->spacy) (1.3.0)\n",
      "Requirement already satisfied: annotated-types>=0.6.0 in c:\\users\\jacob\\anaconda3\\envs\\is310\\lib\\site-packages (from pydantic!=1.8,!=1.8.1,<3.0.0,>=1.7.4->spacy) (0.7.0)\n",
      "Requirement already satisfied: pydantic-core==2.27.2 in c:\\users\\jacob\\anaconda3\\envs\\is310\\lib\\site-packages (from pydantic!=1.8,!=1.8.1,<3.0.0,>=1.7.4->spacy) (2.27.2)\n",
      "Requirement already satisfied: typing-extensions>=4.12.2 in c:\\users\\jacob\\anaconda3\\envs\\is310\\lib\\site-packages (from pydantic!=1.8,!=1.8.1,<3.0.0,>=1.7.4->spacy) (4.12.2)\n",
      "Requirement already satisfied: charset-normalizer<4,>=2 in c:\\users\\jacob\\anaconda3\\envs\\is310\\lib\\site-packages (from requests<3.0.0,>=2.13.0->spacy) (3.3.2)\n",
      "Requirement already satisfied: idna<4,>=2.5 in c:\\users\\jacob\\anaconda3\\envs\\is310\\lib\\site-packages (from requests<3.0.0,>=2.13.0->spacy) (3.7)\n",
      "Requirement already satisfied: urllib3<3,>=1.21.1 in c:\\users\\jacob\\anaconda3\\envs\\is310\\lib\\site-packages (from requests<3.0.0,>=2.13.0->spacy) (2.3.0)\n",
      "Requirement already satisfied: certifi>=2017.4.17 in c:\\users\\jacob\\anaconda3\\envs\\is310\\lib\\site-packages (from requests<3.0.0,>=2.13.0->spacy) (2024.12.14)\n",
      "Requirement already satisfied: blis<1.3.0,>=1.2.0 in c:\\users\\jacob\\anaconda3\\envs\\is310\\lib\\site-packages (from thinc<8.4.0,>=8.3.0->spacy) (1.2.0)\n",
      "Requirement already satisfied: confection<1.0.0,>=0.0.1 in c:\\users\\jacob\\anaconda3\\envs\\is310\\lib\\site-packages (from thinc<8.4.0,>=8.3.0->spacy) (0.1.5)\n",
      "Requirement already satisfied: colorama in c:\\users\\jacob\\anaconda3\\envs\\is310\\lib\\site-packages (from tqdm<5.0.0,>=4.38.0->spacy) (0.4.6)\n",
      "Requirement already satisfied: click>=8.0.0 in c:\\users\\jacob\\anaconda3\\envs\\is310\\lib\\site-packages (from typer<1.0.0,>=0.3.0->spacy) (8.1.7)\n",
      "Requirement already satisfied: shellingham>=1.3.0 in c:\\users\\jacob\\anaconda3\\envs\\is310\\lib\\site-packages (from typer<1.0.0,>=0.3.0->spacy) (1.5.4)\n",
      "Requirement already satisfied: rich>=10.11.0 in c:\\users\\jacob\\anaconda3\\envs\\is310\\lib\\site-packages (from typer<1.0.0,>=0.3.0->spacy) (13.9.4)\n",
      "Requirement already satisfied: cloudpathlib<1.0.0,>=0.7.0 in c:\\users\\jacob\\anaconda3\\envs\\is310\\lib\\site-packages (from weasel<0.5.0,>=0.1.0->spacy) (0.20.0)\n",
      "Requirement already satisfied: smart-open<8.0.0,>=5.2.1 in c:\\users\\jacob\\anaconda3\\envs\\is310\\lib\\site-packages (from weasel<0.5.0,>=0.1.0->spacy) (7.1.0)\n",
      "Requirement already satisfied: MarkupSafe>=2.0 in c:\\users\\jacob\\anaconda3\\envs\\is310\\lib\\site-packages (from jinja2->spacy) (2.1.3)\n",
      "Requirement already satisfied: marisa-trie>=1.1.0 in c:\\users\\jacob\\anaconda3\\envs\\is310\\lib\\site-packages (from language-data>=1.2->langcodes<4.0.0,>=3.2.0->spacy) (1.2.1)\n",
      "Requirement already satisfied: markdown-it-py>=2.2.0 in c:\\users\\jacob\\anaconda3\\envs\\is310\\lib\\site-packages (from rich>=10.11.0->typer<1.0.0,>=0.3.0->spacy) (3.0.0)\n",
      "Requirement already satisfied: pygments<3.0.0,>=2.13.0 in c:\\users\\jacob\\anaconda3\\envs\\is310\\lib\\site-packages (from rich>=10.11.0->typer<1.0.0,>=0.3.0->spacy) (2.15.1)\n",
      "Requirement already satisfied: wrapt in c:\\users\\jacob\\anaconda3\\envs\\is310\\lib\\site-packages (from smart-open<8.0.0,>=5.2.1->weasel<0.5.0,>=0.1.0->spacy) (1.17.2)\n",
      "Requirement already satisfied: mdurl~=0.1 in c:\\users\\jacob\\anaconda3\\envs\\is310\\lib\\site-packages (from markdown-it-py>=2.2.0->rich>=10.11.0->typer<1.0.0,>=0.3.0->spacy) (0.1.2)\n"
     ]
    }
   ],
   "source": [
    "#install spacy in the current conda environment\n",
    "!pip install spacy\n"
   ]
  },
  {
   "cell_type": "code",
   "execution_count": 164,
   "metadata": {},
   "outputs": [
    {
     "name": "stdout",
     "output_type": "stream",
     "text": [
      "Collecting en-core-web-sm==3.8.0\n",
      "  Downloading https://github.com/explosion/spacy-models/releases/download/en_core_web_sm-3.8.0/en_core_web_sm-3.8.0-py3-none-any.whl (12.8 MB)\n",
      "     ---------------------------------------- 0.0/12.8 MB ? eta -:--:--\n",
      "     ----------------------- ---------------- 7.6/12.8 MB 42.7 MB/s eta 0:00:01\n",
      "     --------------------------------------- 12.8/12.8 MB 40.1 MB/s eta 0:00:00\n",
      "\u001b[38;5;2m✔ Download and installation successful\u001b[0m\n",
      "You can now load the package via spacy.load('en_core_web_sm')\n",
      "Requirement already satisfied: matplotlib in c:\\users\\jacob\\anaconda3\\envs\\is310\\lib\\site-packages (3.9.4)\n",
      "Requirement already satisfied: contourpy>=1.0.1 in c:\\users\\jacob\\anaconda3\\envs\\is310\\lib\\site-packages (from matplotlib) (1.3.0)\n",
      "Requirement already satisfied: cycler>=0.10 in c:\\users\\jacob\\anaconda3\\envs\\is310\\lib\\site-packages (from matplotlib) (0.12.1)\n",
      "Requirement already satisfied: fonttools>=4.22.0 in c:\\users\\jacob\\anaconda3\\envs\\is310\\lib\\site-packages (from matplotlib) (4.55.8)\n",
      "Requirement already satisfied: kiwisolver>=1.3.1 in c:\\users\\jacob\\anaconda3\\envs\\is310\\lib\\site-packages (from matplotlib) (1.4.7)\n",
      "Requirement already satisfied: numpy>=1.23 in c:\\users\\jacob\\anaconda3\\envs\\is310\\lib\\site-packages (from matplotlib) (1.26.4)\n",
      "Requirement already satisfied: packaging>=20.0 in c:\\users\\jacob\\anaconda3\\envs\\is310\\lib\\site-packages (from matplotlib) (24.2)\n",
      "Requirement already satisfied: pillow>=8 in c:\\users\\jacob\\anaconda3\\envs\\is310\\lib\\site-packages (from matplotlib) (11.1.0)\n",
      "Requirement already satisfied: pyparsing>=2.3.1 in c:\\users\\jacob\\anaconda3\\envs\\is310\\lib\\site-packages (from matplotlib) (3.2.1)\n",
      "Requirement already satisfied: python-dateutil>=2.7 in c:\\users\\jacob\\anaconda3\\envs\\is310\\lib\\site-packages (from matplotlib) (2.9.0.post0)\n",
      "Requirement already satisfied: importlib-resources>=3.2.0 in c:\\users\\jacob\\anaconda3\\envs\\is310\\lib\\site-packages (from matplotlib) (6.5.2)\n",
      "Requirement already satisfied: zipp>=3.1.0 in c:\\users\\jacob\\anaconda3\\envs\\is310\\lib\\site-packages (from importlib-resources>=3.2.0->matplotlib) (3.21.0)\n",
      "Requirement already satisfied: six>=1.5 in c:\\users\\jacob\\anaconda3\\envs\\is310\\lib\\site-packages (from python-dateutil>=2.7->matplotlib) (1.16.0)\n"
     ]
    }
   ],
   "source": [
    "#download a small language model to help with cleaning tasks\n",
    "!python -m spacy download en_core_web_sm\n",
    "\n",
    "!pip install matplotlib\n"
   ]
  },
  {
   "cell_type": "code",
   "execution_count": 165,
   "metadata": {},
   "outputs": [],
   "source": [
    "#import required libraries\n",
    "import pandas as pd\n",
    "from sklearn.feature_extraction.text import CountVectorizer\n",
    "import spacy\n",
    "language_model = spacy.load(\"en_core_web_sm\")\n",
    "import matplotlib.pyplot as plt\n",
    "\n",
    "import numpy as np"
   ]
  },
  {
   "cell_type": "markdown",
   "metadata": {},
   "source": [
    "### Problem 1 and example: common words in the Michigan subreddit"
   ]
  },
  {
   "cell_type": "code",
   "execution_count": 166,
   "metadata": {},
   "outputs": [],
   "source": [
    "#read the data from a csv file in the folder\n",
    "mich=pd.read_csv(\"umich.csv\")"
   ]
  },
  {
   "cell_type": "code",
   "execution_count": 167,
   "metadata": {},
   "outputs": [
    {
     "data": {
      "text/html": [
       "<div>\n",
       "<style scoped>\n",
       "    .dataframe tbody tr th:only-of-type {\n",
       "        vertical-align: middle;\n",
       "    }\n",
       "\n",
       "    .dataframe tbody tr th {\n",
       "        vertical-align: top;\n",
       "    }\n",
       "\n",
       "    .dataframe thead th {\n",
       "        text-align: right;\n",
       "    }\n",
       "</style>\n",
       "<table border=\"1\" class=\"dataframe\">\n",
       "  <thead>\n",
       "    <tr style=\"text-align: right;\">\n",
       "      <th></th>\n",
       "      <th>Unnamed: 0</th>\n",
       "      <th>date</th>\n",
       "      <th>post_votes</th>\n",
       "      <th>text</th>\n",
       "      <th>user</th>\n",
       "      <th>com_votes</th>\n",
       "    </tr>\n",
       "  </thead>\n",
       "  <tbody>\n",
       "    <tr>\n",
       "      <th>0</th>\n",
       "      <td>0</td>\n",
       "      <td>2024-09-04 15:33:20</td>\n",
       "      <td>2</td>\n",
       "      <td>Zingermans has a nice reuben, pretty pricey but the sammies are pretty big</td>\n",
       "      <td>Suspicious-Bad703</td>\n",
       "      <td>2</td>\n",
       "    </tr>\n",
       "    <tr>\n",
       "      <th>1</th>\n",
       "      <td>1</td>\n",
       "      <td>2024-09-04 15:33:20</td>\n",
       "      <td>2</td>\n",
       "      <td>I really love Tomokun!</td>\n",
       "      <td>webstbre000</td>\n",
       "      <td>2</td>\n",
       "    </tr>\n",
       "    <tr>\n",
       "      <th>2</th>\n",
       "      <td>2</td>\n",
       "      <td>2024-09-04 15:33:20</td>\n",
       "      <td>2</td>\n",
       "      <td>The Seoul is pretty good I especially like their popcorn chicken and crispy rice appetizers!</td>\n",
       "      <td>iaxlmao</td>\n",
       "      <td>1</td>\n",
       "    </tr>\n",
       "    <tr>\n",
       "      <th>3</th>\n",
       "      <td>3</td>\n",
       "      <td>2024-09-04 15:33:20</td>\n",
       "      <td>2</td>\n",
       "      <td>A lot of it depends on what type of food and what type of vibe you are looking for.  There are a lot of options.</td>\n",
       "      <td>I-696</td>\n",
       "      <td>1</td>\n",
       "    </tr>\n",
       "    <tr>\n",
       "      <th>4</th>\n",
       "      <td>4</td>\n",
       "      <td>2024-09-04 14:32:17</td>\n",
       "      <td>1</td>\n",
       "      <td>You can book completely enclosed private study rooms in Shapiro, just go to the library website. AFAIK, there aren’t places in Hatcher (unless you have special access to certain areas) where you can privately speak out loud on a call because even the private carrels and group study areas are open at the top</td>\n",
       "      <td>sneep_</td>\n",
       "      <td>2</td>\n",
       "    </tr>\n",
       "    <tr>\n",
       "      <th>...</th>\n",
       "      <td>...</td>\n",
       "      <td>...</td>\n",
       "      <td>...</td>\n",
       "      <td>...</td>\n",
       "      <td>...</td>\n",
       "      <td>...</td>\n",
       "    </tr>\n",
       "    <tr>\n",
       "      <th>8334</th>\n",
       "      <td>8334</td>\n",
       "      <td>2024-07-02 12:35:36</td>\n",
       "      <td>9</td>\n",
       "      <td>It isn’t a student org</td>\n",
       "      <td>Vibes_And_Smiles</td>\n",
       "      <td>1</td>\n",
       "    </tr>\n",
       "    <tr>\n",
       "      <th>8335</th>\n",
       "      <td>8335</td>\n",
       "      <td>2024-07-02 11:07:10</td>\n",
       "      <td>0</td>\n",
       "      <td>Life   \\r\\nMatter   \\r\\nLife's matter</td>\n",
       "      <td>tctu</td>\n",
       "      <td>8</td>\n",
       "    </tr>\n",
       "    <tr>\n",
       "      <th>8336</th>\n",
       "      <td>8336</td>\n",
       "      <td>2024-07-02 11:07:10</td>\n",
       "      <td>0</td>\n",
       "      <td>google</td>\n",
       "      <td>SUPERazkari</td>\n",
       "      <td>4</td>\n",
       "    </tr>\n",
       "    <tr>\n",
       "      <th>8337</th>\n",
       "      <td>8337</td>\n",
       "      <td>2024-07-02 11:07:10</td>\n",
       "      <td>0</td>\n",
       "      <td>That’s a hard question to answer for a set of individuals.</td>\n",
       "      <td>Own-Resident-3837</td>\n",
       "      <td>-1</td>\n",
       "    </tr>\n",
       "    <tr>\n",
       "      <th>8338</th>\n",
       "      <td>8338</td>\n",
       "      <td>2024-07-02 11:07:10</td>\n",
       "      <td>0</td>\n",
       "      <td>Not either one but instead why do people pick that one?</td>\n",
       "      <td>No-Chemistry-6677</td>\n",
       "      <td>-4</td>\n",
       "    </tr>\n",
       "  </tbody>\n",
       "</table>\n",
       "<p>8339 rows × 6 columns</p>\n",
       "</div>"
      ],
      "text/plain": [
       "      Unnamed: 0                 date  post_votes  \\\n",
       "0              0  2024-09-04 15:33:20           2   \n",
       "1              1  2024-09-04 15:33:20           2   \n",
       "2              2  2024-09-04 15:33:20           2   \n",
       "3              3  2024-09-04 15:33:20           2   \n",
       "4              4  2024-09-04 14:32:17           1   \n",
       "...          ...                  ...         ...   \n",
       "8334        8334  2024-07-02 12:35:36           9   \n",
       "8335        8335  2024-07-02 11:07:10           0   \n",
       "8336        8336  2024-07-02 11:07:10           0   \n",
       "8337        8337  2024-07-02 11:07:10           0   \n",
       "8338        8338  2024-07-02 11:07:10           0   \n",
       "\n",
       "                                                                                                                                                                                                                                                                                                                      text  \\\n",
       "0                                                                                                                                                                                                                                               Zingermans has a nice reuben, pretty pricey but the sammies are pretty big   \n",
       "1                                                                                                                                                                                                                                                                                                   I really love Tomokun!   \n",
       "2                                                                                                                                                                                                                             The Seoul is pretty good I especially like their popcorn chicken and crispy rice appetizers!   \n",
       "3                                                                                                                                                                                                         A lot of it depends on what type of food and what type of vibe you are looking for.  There are a lot of options.   \n",
       "4     You can book completely enclosed private study rooms in Shapiro, just go to the library website. AFAIK, there aren’t places in Hatcher (unless you have special access to certain areas) where you can privately speak out loud on a call because even the private carrels and group study areas are open at the top   \n",
       "...                                                                                                                                                                                                                                                                                                                    ...   \n",
       "8334                                                                                                                                                                                                                                                                                                It isn’t a student org   \n",
       "8335                                                                                                                                                                                                                                                                                 Life   \\r\\nMatter   \\r\\nLife's matter   \n",
       "8336                                                                                                                                                                                                                                                                                                                google   \n",
       "8337                                                                                                                                                                                                                                                            That’s a hard question to answer for a set of individuals.   \n",
       "8338                                                                                                                                                                                                                                                               Not either one but instead why do people pick that one?   \n",
       "\n",
       "                   user  com_votes  \n",
       "0     Suspicious-Bad703          2  \n",
       "1           webstbre000          2  \n",
       "2               iaxlmao          1  \n",
       "3                 I-696          1  \n",
       "4                sneep_          2  \n",
       "...                 ...        ...  \n",
       "8334   Vibes_And_Smiles          1  \n",
       "8335               tctu          8  \n",
       "8336        SUPERazkari          4  \n",
       "8337  Own-Resident-3837         -1  \n",
       "8338  No-Chemistry-6677         -4  \n",
       "\n",
       "[8339 rows x 6 columns]"
      ]
     },
     "execution_count": 167,
     "metadata": {},
     "output_type": "execute_result"
    }
   ],
   "source": [
    "#jupyter will print a pretty representation of most python objects if you just put the name\n",
    "#we can see that the full text of each reddit comment is provided in the \"text\" column\n",
    "mich"
   ]
  },
  {
   "cell_type": "code",
   "execution_count": 168,
   "metadata": {},
   "outputs": [],
   "source": [
    "#this is a function that does some light cleaning, by removing newline characters, converting to lowercase, and removing punctuation\n",
    "\n",
    "def clean(text):\n",
    "    #remove newline and space characters\n",
    "    text = ' '.join(text.split())\n",
    "    #convert the text to lowercase\n",
    "    text = text.lower()\n",
    "    #remove punctuation\n",
    "    text = ''.join([char for char in text if char.isalpha() or char.isspace()])\n",
    "    return text"
   ]
  },
  {
   "cell_type": "code",
   "execution_count": 169,
   "metadata": {},
   "outputs": [],
   "source": [
    "#pandas allows us to quickly apply this cleaning function to all rows in a column\n",
    "mich['cleaned_text'] = mich['text'].apply(clean)"
   ]
  },
  {
   "cell_type": "code",
   "execution_count": 170,
   "metadata": {},
   "outputs": [
    {
     "data": {
      "text/plain": [
       "'zingermans has a nice reuben pretty pricey but the sammies are pretty big'"
      ]
     },
     "execution_count": 170,
     "metadata": {},
     "output_type": "execute_result"
    }
   ],
   "source": [
    "#we can see the first comment after cleaning vs before\n",
    "mich[\"cleaned_text\"][0]"
   ]
  },
  {
   "cell_type": "code",
   "execution_count": 171,
   "metadata": {},
   "outputs": [
    {
     "data": {
      "text/plain": [
       "'Zingermans has a nice reuben, pretty pricey but the sammies are pretty big'"
      ]
     },
     "execution_count": 171,
     "metadata": {},
     "output_type": "execute_result"
    }
   ],
   "source": [
    "mich[\"text\"][0]"
   ]
  },
  {
   "cell_type": "code",
   "execution_count": 172,
   "metadata": {},
   "outputs": [],
   "source": [
    "#create a bag of words representation with count vectorizer\n",
    "vectorizer = CountVectorizer()\n",
    "bag_of_words = vectorizer.fit_transform(mich['cleaned_text'])"
   ]
  },
  {
   "cell_type": "code",
   "execution_count": 173,
   "metadata": {},
   "outputs": [
    {
     "data": {
      "text/plain": [
       "<8339x15289 sparse matrix of type '<class 'numpy.int64'>'\n",
       "\twith 221217 stored elements in Compressed Sparse Row format>"
      ]
     },
     "execution_count": 173,
     "metadata": {},
     "output_type": "execute_result"
    }
   ],
   "source": [
    "#this is a sparse matrix, which is a more efficient way to store a matrix with many zeros\n",
    "#the matrix has 8339 rows (one for each comment) and 15289 columns (one for each unique word in the dataset)\n",
    "bag_of_words"
   ]
  },
  {
   "cell_type": "code",
   "execution_count": 174,
   "metadata": {},
   "outputs": [
    {
     "data": {
      "text/html": [
       "<div>\n",
       "<style scoped>\n",
       "    .dataframe tbody tr th:only-of-type {\n",
       "        vertical-align: middle;\n",
       "    }\n",
       "\n",
       "    .dataframe tbody tr th {\n",
       "        vertical-align: top;\n",
       "    }\n",
       "\n",
       "    .dataframe thead th {\n",
       "        text-align: right;\n",
       "    }\n",
       "</style>\n",
       "<table border=\"1\" class=\"dataframe\">\n",
       "  <thead>\n",
       "    <tr style=\"text-align: right;\">\n",
       "      <th></th>\n",
       "      <th>aa</th>\n",
       "      <th>aadl</th>\n",
       "      <th>aapd</th>\n",
       "      <th>aata</th>\n",
       "      <th>ab</th>\n",
       "      <th>abab</th>\n",
       "      <th>abandon</th>\n",
       "      <th>abandoned</th>\n",
       "      <th>abbreviation</th>\n",
       "      <th>abbreviations</th>\n",
       "      <th>...</th>\n",
       "      <th>zoned</th>\n",
       "      <th>zones</th>\n",
       "      <th>zoning</th>\n",
       "      <th>zoo</th>\n",
       "      <th>zoom</th>\n",
       "      <th>zoomer</th>\n",
       "      <th>zoomers</th>\n",
       "      <th>zuckerberg</th>\n",
       "      <th>𝓲𝓷𝓼𝓮𝓬𝓾𝓻𝓮</th>\n",
       "      <th>𝘢𝘩𝘦𝘮</th>\n",
       "    </tr>\n",
       "  </thead>\n",
       "  <tbody>\n",
       "    <tr>\n",
       "      <th>0</th>\n",
       "      <td>0</td>\n",
       "      <td>0</td>\n",
       "      <td>0</td>\n",
       "      <td>0</td>\n",
       "      <td>0</td>\n",
       "      <td>0</td>\n",
       "      <td>0</td>\n",
       "      <td>0</td>\n",
       "      <td>0</td>\n",
       "      <td>0</td>\n",
       "      <td>...</td>\n",
       "      <td>0</td>\n",
       "      <td>0</td>\n",
       "      <td>0</td>\n",
       "      <td>0</td>\n",
       "      <td>0</td>\n",
       "      <td>0</td>\n",
       "      <td>0</td>\n",
       "      <td>0</td>\n",
       "      <td>0</td>\n",
       "      <td>0</td>\n",
       "    </tr>\n",
       "    <tr>\n",
       "      <th>1</th>\n",
       "      <td>0</td>\n",
       "      <td>0</td>\n",
       "      <td>0</td>\n",
       "      <td>0</td>\n",
       "      <td>0</td>\n",
       "      <td>0</td>\n",
       "      <td>0</td>\n",
       "      <td>0</td>\n",
       "      <td>0</td>\n",
       "      <td>0</td>\n",
       "      <td>...</td>\n",
       "      <td>0</td>\n",
       "      <td>0</td>\n",
       "      <td>0</td>\n",
       "      <td>0</td>\n",
       "      <td>0</td>\n",
       "      <td>0</td>\n",
       "      <td>0</td>\n",
       "      <td>0</td>\n",
       "      <td>0</td>\n",
       "      <td>0</td>\n",
       "    </tr>\n",
       "    <tr>\n",
       "      <th>2</th>\n",
       "      <td>0</td>\n",
       "      <td>0</td>\n",
       "      <td>0</td>\n",
       "      <td>0</td>\n",
       "      <td>0</td>\n",
       "      <td>0</td>\n",
       "      <td>0</td>\n",
       "      <td>0</td>\n",
       "      <td>0</td>\n",
       "      <td>0</td>\n",
       "      <td>...</td>\n",
       "      <td>0</td>\n",
       "      <td>0</td>\n",
       "      <td>0</td>\n",
       "      <td>0</td>\n",
       "      <td>0</td>\n",
       "      <td>0</td>\n",
       "      <td>0</td>\n",
       "      <td>0</td>\n",
       "      <td>0</td>\n",
       "      <td>0</td>\n",
       "    </tr>\n",
       "    <tr>\n",
       "      <th>3</th>\n",
       "      <td>0</td>\n",
       "      <td>0</td>\n",
       "      <td>0</td>\n",
       "      <td>0</td>\n",
       "      <td>0</td>\n",
       "      <td>0</td>\n",
       "      <td>0</td>\n",
       "      <td>0</td>\n",
       "      <td>0</td>\n",
       "      <td>0</td>\n",
       "      <td>...</td>\n",
       "      <td>0</td>\n",
       "      <td>0</td>\n",
       "      <td>0</td>\n",
       "      <td>0</td>\n",
       "      <td>0</td>\n",
       "      <td>0</td>\n",
       "      <td>0</td>\n",
       "      <td>0</td>\n",
       "      <td>0</td>\n",
       "      <td>0</td>\n",
       "    </tr>\n",
       "    <tr>\n",
       "      <th>4</th>\n",
       "      <td>0</td>\n",
       "      <td>0</td>\n",
       "      <td>0</td>\n",
       "      <td>0</td>\n",
       "      <td>0</td>\n",
       "      <td>0</td>\n",
       "      <td>0</td>\n",
       "      <td>0</td>\n",
       "      <td>0</td>\n",
       "      <td>0</td>\n",
       "      <td>...</td>\n",
       "      <td>0</td>\n",
       "      <td>0</td>\n",
       "      <td>0</td>\n",
       "      <td>0</td>\n",
       "      <td>0</td>\n",
       "      <td>0</td>\n",
       "      <td>0</td>\n",
       "      <td>0</td>\n",
       "      <td>0</td>\n",
       "      <td>0</td>\n",
       "    </tr>\n",
       "    <tr>\n",
       "      <th>...</th>\n",
       "      <td>...</td>\n",
       "      <td>...</td>\n",
       "      <td>...</td>\n",
       "      <td>...</td>\n",
       "      <td>...</td>\n",
       "      <td>...</td>\n",
       "      <td>...</td>\n",
       "      <td>...</td>\n",
       "      <td>...</td>\n",
       "      <td>...</td>\n",
       "      <td>...</td>\n",
       "      <td>...</td>\n",
       "      <td>...</td>\n",
       "      <td>...</td>\n",
       "      <td>...</td>\n",
       "      <td>...</td>\n",
       "      <td>...</td>\n",
       "      <td>...</td>\n",
       "      <td>...</td>\n",
       "      <td>...</td>\n",
       "      <td>...</td>\n",
       "    </tr>\n",
       "    <tr>\n",
       "      <th>8334</th>\n",
       "      <td>0</td>\n",
       "      <td>0</td>\n",
       "      <td>0</td>\n",
       "      <td>0</td>\n",
       "      <td>0</td>\n",
       "      <td>0</td>\n",
       "      <td>0</td>\n",
       "      <td>0</td>\n",
       "      <td>0</td>\n",
       "      <td>0</td>\n",
       "      <td>...</td>\n",
       "      <td>0</td>\n",
       "      <td>0</td>\n",
       "      <td>0</td>\n",
       "      <td>0</td>\n",
       "      <td>0</td>\n",
       "      <td>0</td>\n",
       "      <td>0</td>\n",
       "      <td>0</td>\n",
       "      <td>0</td>\n",
       "      <td>0</td>\n",
       "    </tr>\n",
       "    <tr>\n",
       "      <th>8335</th>\n",
       "      <td>0</td>\n",
       "      <td>0</td>\n",
       "      <td>0</td>\n",
       "      <td>0</td>\n",
       "      <td>0</td>\n",
       "      <td>0</td>\n",
       "      <td>0</td>\n",
       "      <td>0</td>\n",
       "      <td>0</td>\n",
       "      <td>0</td>\n",
       "      <td>...</td>\n",
       "      <td>0</td>\n",
       "      <td>0</td>\n",
       "      <td>0</td>\n",
       "      <td>0</td>\n",
       "      <td>0</td>\n",
       "      <td>0</td>\n",
       "      <td>0</td>\n",
       "      <td>0</td>\n",
       "      <td>0</td>\n",
       "      <td>0</td>\n",
       "    </tr>\n",
       "    <tr>\n",
       "      <th>8336</th>\n",
       "      <td>0</td>\n",
       "      <td>0</td>\n",
       "      <td>0</td>\n",
       "      <td>0</td>\n",
       "      <td>0</td>\n",
       "      <td>0</td>\n",
       "      <td>0</td>\n",
       "      <td>0</td>\n",
       "      <td>0</td>\n",
       "      <td>0</td>\n",
       "      <td>...</td>\n",
       "      <td>0</td>\n",
       "      <td>0</td>\n",
       "      <td>0</td>\n",
       "      <td>0</td>\n",
       "      <td>0</td>\n",
       "      <td>0</td>\n",
       "      <td>0</td>\n",
       "      <td>0</td>\n",
       "      <td>0</td>\n",
       "      <td>0</td>\n",
       "    </tr>\n",
       "    <tr>\n",
       "      <th>8337</th>\n",
       "      <td>0</td>\n",
       "      <td>0</td>\n",
       "      <td>0</td>\n",
       "      <td>0</td>\n",
       "      <td>0</td>\n",
       "      <td>0</td>\n",
       "      <td>0</td>\n",
       "      <td>0</td>\n",
       "      <td>0</td>\n",
       "      <td>0</td>\n",
       "      <td>...</td>\n",
       "      <td>0</td>\n",
       "      <td>0</td>\n",
       "      <td>0</td>\n",
       "      <td>0</td>\n",
       "      <td>0</td>\n",
       "      <td>0</td>\n",
       "      <td>0</td>\n",
       "      <td>0</td>\n",
       "      <td>0</td>\n",
       "      <td>0</td>\n",
       "    </tr>\n",
       "    <tr>\n",
       "      <th>8338</th>\n",
       "      <td>0</td>\n",
       "      <td>0</td>\n",
       "      <td>0</td>\n",
       "      <td>0</td>\n",
       "      <td>0</td>\n",
       "      <td>0</td>\n",
       "      <td>0</td>\n",
       "      <td>0</td>\n",
       "      <td>0</td>\n",
       "      <td>0</td>\n",
       "      <td>...</td>\n",
       "      <td>0</td>\n",
       "      <td>0</td>\n",
       "      <td>0</td>\n",
       "      <td>0</td>\n",
       "      <td>0</td>\n",
       "      <td>0</td>\n",
       "      <td>0</td>\n",
       "      <td>0</td>\n",
       "      <td>0</td>\n",
       "      <td>0</td>\n",
       "    </tr>\n",
       "  </tbody>\n",
       "</table>\n",
       "<p>8339 rows × 15289 columns</p>\n",
       "</div>"
      ],
      "text/plain": [
       "      aa  aadl  aapd  aata  ab  abab  abandon  abandoned  abbreviation  \\\n",
       "0      0     0     0     0   0     0        0          0             0   \n",
       "1      0     0     0     0   0     0        0          0             0   \n",
       "2      0     0     0     0   0     0        0          0             0   \n",
       "3      0     0     0     0   0     0        0          0             0   \n",
       "4      0     0     0     0   0     0        0          0             0   \n",
       "...   ..   ...   ...   ...  ..   ...      ...        ...           ...   \n",
       "8334   0     0     0     0   0     0        0          0             0   \n",
       "8335   0     0     0     0   0     0        0          0             0   \n",
       "8336   0     0     0     0   0     0        0          0             0   \n",
       "8337   0     0     0     0   0     0        0          0             0   \n",
       "8338   0     0     0     0   0     0        0          0             0   \n",
       "\n",
       "      abbreviations  ...  zoned  zones  zoning  zoo  zoom  zoomer  zoomers  \\\n",
       "0                 0  ...      0      0       0    0     0       0        0   \n",
       "1                 0  ...      0      0       0    0     0       0        0   \n",
       "2                 0  ...      0      0       0    0     0       0        0   \n",
       "3                 0  ...      0      0       0    0     0       0        0   \n",
       "4                 0  ...      0      0       0    0     0       0        0   \n",
       "...             ...  ...    ...    ...     ...  ...   ...     ...      ...   \n",
       "8334              0  ...      0      0       0    0     0       0        0   \n",
       "8335              0  ...      0      0       0    0     0       0        0   \n",
       "8336              0  ...      0      0       0    0     0       0        0   \n",
       "8337              0  ...      0      0       0    0     0       0        0   \n",
       "8338              0  ...      0      0       0    0     0       0        0   \n",
       "\n",
       "      zuckerberg  𝓲𝓷𝓼𝓮𝓬𝓾𝓻𝓮  𝘢𝘩𝘦𝘮  \n",
       "0              0         0     0  \n",
       "1              0         0     0  \n",
       "2              0         0     0  \n",
       "3              0         0     0  \n",
       "4              0         0     0  \n",
       "...          ...       ...   ...  \n",
       "8334           0         0     0  \n",
       "8335           0         0     0  \n",
       "8336           0         0     0  \n",
       "8337           0         0     0  \n",
       "8338           0         0     0  \n",
       "\n",
       "[8339 rows x 15289 columns]"
      ]
     },
     "execution_count": 174,
     "metadata": {},
     "output_type": "execute_result"
    }
   ],
   "source": [
    "#create a dataframe from the sparse matrix\n",
    "#this is a more human-readable way to view the data\n",
    "bow_df = pd.DataFrame(bag_of_words.toarray(), columns=vectorizer.get_feature_names_out())\n",
    "bow_df"
   ]
  },
  {
   "cell_type": "code",
   "execution_count": 175,
   "metadata": {},
   "outputs": [
    {
     "data": {
      "text/plain": [
       "the            11306\n",
       "to              8480\n",
       "and             6921\n",
       "you             6256\n",
       "of              5028\n",
       "               ...  \n",
       "journals           1\n",
       "journeywhen        1\n",
       "jpg                1\n",
       "js                 1\n",
       "𝘢𝘩𝘦𝘮               1\n",
       "Length: 15289, dtype: int64"
      ]
     },
     "execution_count": 175,
     "metadata": {},
     "output_type": "execute_result"
    }
   ],
   "source": [
    "#dataframes have a convenient method for summing the values in each column\n",
    "#this will give us the number of times each word appears in the dataset\n",
    "word_counts = bow_df.sum()\n",
    "#we can sort the values to see the most common words\n",
    "word_counts = word_counts.sort_values(ascending=False)\n",
    "\n",
    "#notice that the top words are not very informative, as they are common words that appear in many contexts\n",
    "#and bottom words include a lot of typos and other noise\n",
    "word_counts"
   ]
  },
  {
   "cell_type": "code",
   "execution_count": 176,
   "metadata": {},
   "outputs": [
    {
     "data": {
      "image/png": "[encoded data removed]",
      "text/plain": [
       "<Figure size 2000x1000 with 1 Axes>"
      ]
     },
     "metadata": {},
     "output_type": "display_data"
    }
   ],
   "source": [
    "#we can plot the most common words\n",
    "#we will only plot the top 10 words for readability\n",
    "word_counts = word_counts.head(10)\n",
    "plt.figure(figsize=(20,10))\n",
    "plt.bar(word_counts.index, word_counts.values)\n",
    "plt.xticks(rotation=45)\n",
    "plt.show()"
   ]
  },
  {
   "cell_type": "markdown",
   "metadata": {},
   "source": [
    "#### Question 1: what do you notice about the words in this plot? Is this useful for studying the community?"
   ]
  },
  {
   "cell_type": "markdown",
   "metadata": {},
   "source": [
    "Answer here: No, these all look like stop words. They dont really seem to have any relevance to Umich or the words that we care about."
   ]
  },
  {
   "cell_type": "markdown",
   "metadata": {},
   "source": [
    "#### Lemmatization and stopword removal"
   ]
  },
  {
   "cell_type": "code",
   "execution_count": 177,
   "metadata": {},
   "outputs": [],
   "source": [
    "#lemmatization function from the openclassrooms reading\n",
    "def lemmatize(text):\n",
    "\n",
    "   doc = language_model(text)\n",
    "\n",
    "   tokens = [token.lemma_ for token in doc if not (token.is_stop or token.is_punct)]\n",
    "\n",
    "   return ' '.join(tokens)"
   ]
  },
  {
   "cell_type": "code",
   "execution_count": 178,
   "metadata": {},
   "outputs": [],
   "source": [
    "#we can further process the text by removing stopwords and lemmatizing\n",
    "mich['lemmatized_text'] = mich['cleaned_text'].apply(lemmatize)"
   ]
  },
  {
   "cell_type": "code",
   "execution_count": 179,
   "metadata": {},
   "outputs": [],
   "source": [
    "#count vectorizer also has parameters min_df and max_df that can be used to filter out words that are too rare or too common\n",
    "#min_df=3 means that a word must appear in at least 3 documents to be included, this will remove typos and rare words\n",
    "#max_df=0.3 means that a word must appear in at most 30% of documents to be included, this will remove corpus-specific stopwords\n",
    "\n",
    "#we are also able to include n-grams in the count vectorizer\n",
    "#n-grams are sequences of n words that appear together in the text\n",
    "#the n-gram_range parameter specifies the minimum and maximum n-gram size to include (so in this case, we are including both unigrams and bigrams)\n",
    "\n",
    "vectorizer = CountVectorizer(min_df=3, max_df=0.3, ngram_range=(1,2))\n",
    "bag_of_words = vectorizer.fit_transform(mich['lemmatized_text'])"
   ]
  },
  {
   "cell_type": "code",
   "execution_count": 180,
   "metadata": {},
   "outputs": [
    {
     "data": {
      "text/plain": [
       "<8339x8608 sparse matrix of type '<class 'numpy.int64'>'\n",
       "\twith 126768 stored elements in Compressed Sparse Row format>"
      ]
     },
     "execution_count": 180,
     "metadata": {},
     "output_type": "execute_result"
    }
   ],
   "source": [
    "#we can see that we filtered out 11000 common words and typos\n",
    "bag_of_words"
   ]
  },
  {
   "cell_type": "code",
   "execution_count": 181,
   "metadata": {},
   "outputs": [
    {
     "data": {
      "text/plain": [
       "not              2863\n",
       "student          1183\n",
       "like             1183\n",
       "people           1124\n",
       "class             988\n",
       "                 ... \n",
       "club campus         3\n",
       "open not            3\n",
       "open source         3\n",
       "club activity       3\n",
       "luck search         3\n",
       "Length: 8608, dtype: int64"
      ]
     },
     "execution_count": 181,
     "metadata": {},
     "output_type": "execute_result"
    }
   ],
   "source": [
    "#we can repeat the previous code to create a dataframe and count the words\n",
    "bow_df = pd.DataFrame(bag_of_words.toarray(), columns=vectorizer.get_feature_names_out())\n",
    "word_counts = bow_df.sum()\n",
    "word_counts = word_counts.sort_values(ascending=False)\n",
    "word_counts"
   ]
  },
  {
   "cell_type": "code",
   "execution_count": 182,
   "metadata": {},
   "outputs": [],
   "source": [
    "#we can convert this to a percentage instead of an absolute count by dividing by the total number of words\n",
    "word_counts = word_counts / word_counts.sum()"
   ]
  },
  {
   "cell_type": "code",
   "execution_count": 183,
   "metadata": {},
   "outputs": [
    {
     "data": {
      "image/png": "[encoded data removed]",
      "text/plain": [
       "<Figure size 2000x1000 with 1 Axes>"
      ]
     },
     "metadata": {},
     "output_type": "display_data"
    }
   ],
   "source": [
    "#we can plot the most common words\n",
    "#we will only plot the top 10 words for readability\n",
    "plot_list = word_counts.head(10)\n",
    "plt.figure(figsize=(20,10))\n",
    "plt.bar(plot_list.index, plot_list.values)\n",
    "plt.xticks(rotation=45)\n",
    "plt.show()"
   ]
  },
  {
   "cell_type": "code",
   "execution_count": 184,
   "metadata": {},
   "outputs": [
    {
     "data": {
      "text/plain": [
       "history             0.000352\n",
       "business            0.000600\n",
       "computer science    0.000035\n",
       "cs                  0.001228\n",
       "computer            0.000262\n",
       "dtype: float64"
      ]
     },
     "execution_count": 184,
     "metadata": {},
     "output_type": "execute_result"
    }
   ],
   "source": [
    "#we can also use a list of words to compare and plot specific words\n",
    "plot_list=word_counts[[\"history\", \"business\", \"computer science\", \"cs\", \"computer\"]]\n",
    "plot_list"
   ]
  },
  {
   "cell_type": "code",
   "execution_count": 185,
   "metadata": {},
   "outputs": [
    {
     "data": {
      "image/png": "[encoded data removed]",
      "text/plain": [
       "<Figure size 2000x1000 with 1 Axes>"
      ]
     },
     "metadata": {},
     "output_type": "display_data"
    }
   ],
   "source": [
    "\n",
    "plt.figure(figsize=(20,10))\n",
    "plt.bar(plot_list.index, plot_list.values)\n",
    "plt.xticks(rotation=45)\n",
    "plt.show()"
   ]
  },
  {
   "cell_type": "markdown",
   "metadata": {},
   "source": [
    "#### Question 2:"
   ]
  },
  {
   "cell_type": "code",
   "execution_count": 186,
   "metadata": {},
   "outputs": [],
   "source": [
    "#TODO: pick 5 words that you find interesting or are curious about, and plot a bar plot of their frequency in this dataset "
   ]
  },
  {
   "cell_type": "code",
   "execution_count": 187,
   "metadata": {},
   "outputs": [
    {
     "data": {
      "image/png": "[encoded data removed]",
      "text/plain": [
       "<Figure size 2000x1000 with 1 Axes>"
      ]
     },
     "metadata": {},
     "output_type": "display_data"
    }
   ],
   "source": [
    "my_plot_list=word_counts[['fire','difficult','english','fun','easy']]\n",
    "plt.figure(figsize=(20,10))\n",
    "plt.bar(my_plot_list.index, plot_list.values)\n",
    "plt.xticks(rotation=45)\n",
    "plt.show()"
   ]
  },
  {
   "cell_type": "markdown",
   "metadata": {},
   "source": [
    "### Problem 2: repeat this process with the Illinois subreddit data (in this directory as \"uiuc.csv\"). You should not have to change too much in the previous code besides the dataframe path and name. Your notebook should include the two bar graphs including and excluding stopwords. Use the same 5 words and compare their relative frequency between the two subreddits. Discuss any interesting differences you notice in a short markdown cell. "
   ]
  },
  {
   "cell_type": "code",
   "execution_count": 188,
   "metadata": {},
   "outputs": [
    {
     "data": {
      "text/html": [
       "<div>\n",
       "<style scoped>\n",
       "    .dataframe tbody tr th:only-of-type {\n",
       "        vertical-align: middle;\n",
       "    }\n",
       "\n",
       "    .dataframe tbody tr th {\n",
       "        vertical-align: top;\n",
       "    }\n",
       "\n",
       "    .dataframe thead th {\n",
       "        text-align: right;\n",
       "    }\n",
       "</style>\n",
       "<table border=\"1\" class=\"dataframe\">\n",
       "  <thead>\n",
       "    <tr style=\"text-align: right;\">\n",
       "      <th></th>\n",
       "      <th>Unnamed: 0</th>\n",
       "      <th>date</th>\n",
       "      <th>post_votes</th>\n",
       "      <th>text</th>\n",
       "      <th>user</th>\n",
       "      <th>com_votes</th>\n",
       "    </tr>\n",
       "  </thead>\n",
       "  <tbody>\n",
       "    <tr>\n",
       "      <th>0</th>\n",
       "      <td>0</td>\n",
       "      <td>2024-09-04 14:43:40</td>\n",
       "      <td>2</td>\n",
       "      <td>Have the same professor! And in lecture he did say we were gonna have to learn some of the stuff ourself \\r\\n\\r\\nI would recommend using online resources such as Paul’s Online Math Notes and Professor Leonard on YouTube. Personally, I’ve been learning the material from those sources before going to lecture</td>\n",
       "      <td>zhen3441</td>\n",
       "      <td>2</td>\n",
       "    </tr>\n",
       "    <tr>\n",
       "      <th>1</th>\n",
       "      <td>1</td>\n",
       "      <td>2024-09-04 14:43:40</td>\n",
       "      <td>2</td>\n",
       "      <td>Do you find it helpful to still go to the lecture? It seems to me that his slides are embedded with mistakes here and there. It makes it more confusing for me to understand him.</td>\n",
       "      <td>Kai2747</td>\n",
       "      <td>1</td>\n",
       "    </tr>\n",
       "    <tr>\n",
       "      <th>2</th>\n",
       "      <td>2</td>\n",
       "      <td>2024-09-04 12:52:08</td>\n",
       "      <td>3</td>\n",
       "      <td>Have you tried emailing University Housing to request access?</td>\n",
       "      <td>TurboBKTastic</td>\n",
       "      <td>2</td>\n",
       "    </tr>\n",
       "    <tr>\n",
       "      <th>3</th>\n",
       "      <td>3</td>\n",
       "      <td>2024-09-04 12:52:08</td>\n",
       "      <td>3</td>\n",
       "      <td>Purchasing Illini Cash should get you added to the Non-Resident Meal Plan card access level. These **generally** allow you access to whatever is considered the \"front door\" of the residence hall with access to the dining hall.\\r\\n\\r\\nAt PAR, that would be the doors facing the bus stop on the south side of the building. Only the mag stripe reader will work, prox access in (most) of the residence halls is currently only activated for residents with ADA needs.</td>\n",
       "      <td>HoosierCAB</td>\n",
       "      <td>2</td>\n",
       "    </tr>\n",
       "    <tr>\n",
       "      <th>4</th>\n",
       "      <td>4</td>\n",
       "      <td>2024-09-04 12:52:08</td>\n",
       "      <td>3</td>\n",
       "      <td>Just did, thanks for the suggestion! It hadn't occurred to me to do that.</td>\n",
       "      <td>Sector-Both</td>\n",
       "      <td>1</td>\n",
       "    </tr>\n",
       "    <tr>\n",
       "      <th>...</th>\n",
       "      <td>...</td>\n",
       "      <td>...</td>\n",
       "      <td>...</td>\n",
       "      <td>...</td>\n",
       "      <td>...</td>\n",
       "      <td>...</td>\n",
       "    </tr>\n",
       "    <tr>\n",
       "      <th>4720</th>\n",
       "      <td>4720</td>\n",
       "      <td>2024-08-21 20:28:40</td>\n",
       "      <td>1</td>\n",
       "      <td>Im interested if you're still looking</td>\n",
       "      <td>Accomplished_Fix2409</td>\n",
       "      <td>0</td>\n",
       "    </tr>\n",
       "    <tr>\n",
       "      <th>4721</th>\n",
       "      <td>4721</td>\n",
       "      <td>2024-08-21 20:26:15</td>\n",
       "      <td>7</td>\n",
       "      <td>I went to one of the taylor nights. was quite fun even without drinking</td>\n",
       "      <td>student176895</td>\n",
       "      <td>4</td>\n",
       "    </tr>\n",
       "    <tr>\n",
       "      <th>4722</th>\n",
       "      <td>4722</td>\n",
       "      <td>2024-08-21 20:21:54</td>\n",
       "      <td>10</td>\n",
       "      <td>Hey, I’m so sorry to hear that’s happening. If you are a UIUC student, please contact our office at Off-Campus Community Living at [off-campuscommunityliving@illinois.edu](mailto:off-campuscommunityliving@illinois.edu) for resources to help you navigate these issues with your new apartment.</td>\n",
       "      <td>OCCLUIUC</td>\n",
       "      <td>5</td>\n",
       "    </tr>\n",
       "    <tr>\n",
       "      <th>4723</th>\n",
       "      <td>4723</td>\n",
       "      <td>2024-08-21 20:21:54</td>\n",
       "      <td>10</td>\n",
       "      <td>AFAIK, the “cleaning company” that UGroup employs isn’t even a real business. When I had to move units across the hall a couple of years ago, we witnessed what their “cleaning” process looks like—it was a family of three (a mother and her teenage kids) who brought their lunch into the unit to eat while they wiped down the countertops and floors. The apartment was still absolutely filthy from the previous tenants when we got the keys. Fuck UGroup.</td>\n",
       "      <td>perpetuallytired29</td>\n",
       "      <td>3</td>\n",
       "    </tr>\n",
       "    <tr>\n",
       "      <th>4724</th>\n",
       "      <td>4724</td>\n",
       "      <td>2024-08-21 20:21:54</td>\n",
       "      <td>10</td>\n",
       "      <td>thank god it wasn't a half dirty towel</td>\n",
       "      <td>Traditional_Half5199</td>\n",
       "      <td>0</td>\n",
       "    </tr>\n",
       "  </tbody>\n",
       "</table>\n",
       "<p>4725 rows × 6 columns</p>\n",
       "</div>"
      ],
      "text/plain": [
       "      Unnamed: 0                 date  post_votes  \\\n",
       "0              0  2024-09-04 14:43:40           2   \n",
       "1              1  2024-09-04 14:43:40           2   \n",
       "2              2  2024-09-04 12:52:08           3   \n",
       "3              3  2024-09-04 12:52:08           3   \n",
       "4              4  2024-09-04 12:52:08           3   \n",
       "...          ...                  ...         ...   \n",
       "4720        4720  2024-08-21 20:28:40           1   \n",
       "4721        4721  2024-08-21 20:26:15           7   \n",
       "4722        4722  2024-08-21 20:21:54          10   \n",
       "4723        4723  2024-08-21 20:21:54          10   \n",
       "4724        4724  2024-08-21 20:21:54          10   \n",
       "\n",
       "                                                                                                                                                                                                                                                                                                                                                                                                                                                                               text  \\\n",
       "0                                                                                                                                                               Have the same professor! And in lecture he did say we were gonna have to learn some of the stuff ourself \\r\\n\\r\\nI would recommend using online resources such as Paul’s Online Math Notes and Professor Leonard on YouTube. Personally, I’ve been learning the material from those sources before going to lecture   \n",
       "1                                                                                                                                                                                                                                                                                                 Do you find it helpful to still go to the lecture? It seems to me that his slides are embedded with mistakes here and there. It makes it more confusing for me to understand him.   \n",
       "2                                                                                                                                                                                                                                                                                                                                                                                                                     Have you tried emailing University Housing to request access?   \n",
       "3     Purchasing Illini Cash should get you added to the Non-Resident Meal Plan card access level. These **generally** allow you access to whatever is considered the \"front door\" of the residence hall with access to the dining hall.\\r\\n\\r\\nAt PAR, that would be the doors facing the bus stop on the south side of the building. Only the mag stripe reader will work, prox access in (most) of the residence halls is currently only activated for residents with ADA needs.   \n",
       "4                                                                                                                                                                                                                                                                                                                                                                                                         Just did, thanks for the suggestion! It hadn't occurred to me to do that.   \n",
       "...                                                                                                                                                                                                                                                                                                                                                                                                                                                                             ...   \n",
       "4720                                                                                                                                                                                                                                                                                                                                                                                                                                          Im interested if you're still looking   \n",
       "4721                                                                                                                                                                                                                                                                                                                                                                                                        I went to one of the taylor nights. was quite fun even without drinking   \n",
       "4722                                                                                                                                                                            Hey, I’m so sorry to hear that’s happening. If you are a UIUC student, please contact our office at Off-Campus Community Living at [off-campuscommunityliving@illinois.edu](mailto:off-campuscommunityliving@illinois.edu) for resources to help you navigate these issues with your new apartment.   \n",
       "4723             AFAIK, the “cleaning company” that UGroup employs isn’t even a real business. When I had to move units across the hall a couple of years ago, we witnessed what their “cleaning” process looks like—it was a family of three (a mother and her teenage kids) who brought their lunch into the unit to eat while they wiped down the countertops and floors. The apartment was still absolutely filthy from the previous tenants when we got the keys. Fuck UGroup.   \n",
       "4724                                                                                                                                                                                                                                                                                                                                                                                                                                         thank god it wasn't a half dirty towel   \n",
       "\n",
       "                      user  com_votes  \n",
       "0                 zhen3441          2  \n",
       "1                  Kai2747          1  \n",
       "2            TurboBKTastic          2  \n",
       "3               HoosierCAB          2  \n",
       "4              Sector-Both          1  \n",
       "...                    ...        ...  \n",
       "4720  Accomplished_Fix2409          0  \n",
       "4721         student176895          4  \n",
       "4722              OCCLUIUC          5  \n",
       "4723    perpetuallytired29          3  \n",
       "4724  Traditional_Half5199          0  \n",
       "\n",
       "[4725 rows x 6 columns]"
      ]
     },
     "execution_count": 188,
     "metadata": {},
     "output_type": "execute_result"
    }
   ],
   "source": [
    "uiuc=pd.read_csv(\"uiuc.csv\")\n",
    "uiuc\n",
    "\n",
    "\n"
   ]
  },
  {
   "cell_type": "code",
   "execution_count": 189,
   "metadata": {},
   "outputs": [
    {
     "name": "stdout",
     "output_type": "stream",
     "text": [
      "   Unnamed: 0                 date  post_votes  \\\n",
      "0           0  2024-09-04 14:43:40           2   \n",
      "1           1  2024-09-04 14:43:40           2   \n",
      "2           2  2024-09-04 12:52:08           3   \n",
      "3           3  2024-09-04 12:52:08           3   \n",
      "4           4  2024-09-04 12:52:08           3   \n",
      "\n",
      "                                                                                                                                                                                                                                                                                                                                                                                                                                                                            text  \\\n",
      "0                                                                                                                                                            Have the same professor! And in lecture he did say we were gonna have to learn some of the stuff ourself \\r\\n\\r\\nI would recommend using online resources such as Paul’s Online Math Notes and Professor Leonard on YouTube. Personally, I’ve been learning the material from those sources before going to lecture   \n",
      "1                                                                                                                                                                                                                                                                                              Do you find it helpful to still go to the lecture? It seems to me that his slides are embedded with mistakes here and there. It makes it more confusing for me to understand him.   \n",
      "2                                                                                                                                                                                                                                                                                                                                                                                                                  Have you tried emailing University Housing to request access?   \n",
      "3  Purchasing Illini Cash should get you added to the Non-Resident Meal Plan card access level. These **generally** allow you access to whatever is considered the \"front door\" of the residence hall with access to the dining hall.\\r\\n\\r\\nAt PAR, that would be the doors facing the bus stop on the south side of the building. Only the mag stripe reader will work, prox access in (most) of the residence halls is currently only activated for residents with ADA needs.   \n",
      "4                                                                                                                                                                                                                                                                                                                                                                                                      Just did, thanks for the suggestion! It hadn't occurred to me to do that.   \n",
      "\n",
      "            user  com_votes  \\\n",
      "0       zhen3441          2   \n",
      "1        Kai2747          1   \n",
      "2  TurboBKTastic          2   \n",
      "3     HoosierCAB          2   \n",
      "4    Sector-Both          1   \n",
      "\n",
      "                                                                                                                                                                                                                                                                                                                                                                                                                                              cleaned_text  \n",
      "0                                                                                                                                                   have the same professor and in lecture he did say we were gonna have to learn some of the stuff ourself i would recommend using online resources such as pauls online math notes and professor leonard on youtube personally ive been learning the material from those sources before going to lecture  \n",
      "1                                                                                                                                                                                                                                                                           do you find it helpful to still go to the lecture it seems to me that his slides are embedded with mistakes here and there it makes it more confusing for me to understand him  \n",
      "2                                                                                                                                                                                                                                                                                                                                                                                             have you tried emailing university housing to request access  \n",
      "3  purchasing illini cash should get you added to the nonresident meal plan card access level these generally allow you access to whatever is considered the front door of the residence hall with access to the dining hall at par that would be the doors facing the bus stop on the south side of the building only the mag stripe reader will work prox access in most of the residence halls is currently only activated for residents with ada needs  \n",
      "4                                                                                                                                                                                                                                                                                                                                                                                    just did thanks for the suggestion it hadnt occurred to me to do that  \n"
     ]
    }
   ],
   "source": [
    "uiuc['cleaned_text'] = uiuc['text'].apply(clean)\n",
    "print(uiuc.head())\n"
   ]
  },
  {
   "cell_type": "code",
   "execution_count": 190,
   "metadata": {},
   "outputs": [
    {
     "data": {
      "text/plain": [
       "<4725x10109 sparse matrix of type '<class 'numpy.int64'>'\n",
       "\twith 98566 stored elements in Compressed Sparse Row format>"
      ]
     },
     "execution_count": 190,
     "metadata": {},
     "output_type": "execute_result"
    }
   ],
   "source": [
    "vectorizer = CountVectorizer()\n",
    "bag_of_words_uiuc = vectorizer.fit_transform(uiuc['cleaned_text'])\n",
    "bag_of_words_uiuc"
   ]
  },
  {
   "cell_type": "code",
   "execution_count": 191,
   "metadata": {},
   "outputs": [
    {
     "data": {
      "text/html": [
       "<div>\n",
       "<style scoped>\n",
       "    .dataframe tbody tr th:only-of-type {\n",
       "        vertical-align: middle;\n",
       "    }\n",
       "\n",
       "    .dataframe tbody tr th {\n",
       "        vertical-align: top;\n",
       "    }\n",
       "\n",
       "    .dataframe thead th {\n",
       "        text-align: right;\n",
       "    }\n",
       "</style>\n",
       "<table border=\"1\" class=\"dataframe\">\n",
       "  <thead>\n",
       "    <tr style=\"text-align: right;\">\n",
       "      <th></th>\n",
       "      <th>aa</th>\n",
       "      <th>aaa</th>\n",
       "      <th>aaaaah</th>\n",
       "      <th>aaabb</th>\n",
       "      <th>ab</th>\n",
       "      <th>abandoned</th>\n",
       "      <th>abcc</th>\n",
       "      <th>abide</th>\n",
       "      <th>abilities</th>\n",
       "      <th>ability</th>\n",
       "      <th>...</th>\n",
       "      <th>zombie</th>\n",
       "      <th>zone</th>\n",
       "      <th>zones</th>\n",
       "      <th>zoo</th>\n",
       "      <th>zoom</th>\n",
       "      <th>zoomed</th>\n",
       "      <th>봉사를</th>\n",
       "      <th>세계로</th>\n",
       "      <th>숭실</th>\n",
       "      <th>진리와</th>\n",
       "    </tr>\n",
       "  </thead>\n",
       "  <tbody>\n",
       "    <tr>\n",
       "      <th>0</th>\n",
       "      <td>0</td>\n",
       "      <td>0</td>\n",
       "      <td>0</td>\n",
       "      <td>0</td>\n",
       "      <td>0</td>\n",
       "      <td>0</td>\n",
       "      <td>0</td>\n",
       "      <td>0</td>\n",
       "      <td>0</td>\n",
       "      <td>0</td>\n",
       "      <td>...</td>\n",
       "      <td>0</td>\n",
       "      <td>0</td>\n",
       "      <td>0</td>\n",
       "      <td>0</td>\n",
       "      <td>0</td>\n",
       "      <td>0</td>\n",
       "      <td>0</td>\n",
       "      <td>0</td>\n",
       "      <td>0</td>\n",
       "      <td>0</td>\n",
       "    </tr>\n",
       "    <tr>\n",
       "      <th>1</th>\n",
       "      <td>0</td>\n",
       "      <td>0</td>\n",
       "      <td>0</td>\n",
       "      <td>0</td>\n",
       "      <td>0</td>\n",
       "      <td>0</td>\n",
       "      <td>0</td>\n",
       "      <td>0</td>\n",
       "      <td>0</td>\n",
       "      <td>0</td>\n",
       "      <td>...</td>\n",
       "      <td>0</td>\n",
       "      <td>0</td>\n",
       "      <td>0</td>\n",
       "      <td>0</td>\n",
       "      <td>0</td>\n",
       "      <td>0</td>\n",
       "      <td>0</td>\n",
       "      <td>0</td>\n",
       "      <td>0</td>\n",
       "      <td>0</td>\n",
       "    </tr>\n",
       "    <tr>\n",
       "      <th>2</th>\n",
       "      <td>0</td>\n",
       "      <td>0</td>\n",
       "      <td>0</td>\n",
       "      <td>0</td>\n",
       "      <td>0</td>\n",
       "      <td>0</td>\n",
       "      <td>0</td>\n",
       "      <td>0</td>\n",
       "      <td>0</td>\n",
       "      <td>0</td>\n",
       "      <td>...</td>\n",
       "      <td>0</td>\n",
       "      <td>0</td>\n",
       "      <td>0</td>\n",
       "      <td>0</td>\n",
       "      <td>0</td>\n",
       "      <td>0</td>\n",
       "      <td>0</td>\n",
       "      <td>0</td>\n",
       "      <td>0</td>\n",
       "      <td>0</td>\n",
       "    </tr>\n",
       "    <tr>\n",
       "      <th>3</th>\n",
       "      <td>0</td>\n",
       "      <td>0</td>\n",
       "      <td>0</td>\n",
       "      <td>0</td>\n",
       "      <td>0</td>\n",
       "      <td>0</td>\n",
       "      <td>0</td>\n",
       "      <td>0</td>\n",
       "      <td>0</td>\n",
       "      <td>0</td>\n",
       "      <td>...</td>\n",
       "      <td>0</td>\n",
       "      <td>0</td>\n",
       "      <td>0</td>\n",
       "      <td>0</td>\n",
       "      <td>0</td>\n",
       "      <td>0</td>\n",
       "      <td>0</td>\n",
       "      <td>0</td>\n",
       "      <td>0</td>\n",
       "      <td>0</td>\n",
       "    </tr>\n",
       "    <tr>\n",
       "      <th>4</th>\n",
       "      <td>0</td>\n",
       "      <td>0</td>\n",
       "      <td>0</td>\n",
       "      <td>0</td>\n",
       "      <td>0</td>\n",
       "      <td>0</td>\n",
       "      <td>0</td>\n",
       "      <td>0</td>\n",
       "      <td>0</td>\n",
       "      <td>0</td>\n",
       "      <td>...</td>\n",
       "      <td>0</td>\n",
       "      <td>0</td>\n",
       "      <td>0</td>\n",
       "      <td>0</td>\n",
       "      <td>0</td>\n",
       "      <td>0</td>\n",
       "      <td>0</td>\n",
       "      <td>0</td>\n",
       "      <td>0</td>\n",
       "      <td>0</td>\n",
       "    </tr>\n",
       "    <tr>\n",
       "      <th>...</th>\n",
       "      <td>...</td>\n",
       "      <td>...</td>\n",
       "      <td>...</td>\n",
       "      <td>...</td>\n",
       "      <td>...</td>\n",
       "      <td>...</td>\n",
       "      <td>...</td>\n",
       "      <td>...</td>\n",
       "      <td>...</td>\n",
       "      <td>...</td>\n",
       "      <td>...</td>\n",
       "      <td>...</td>\n",
       "      <td>...</td>\n",
       "      <td>...</td>\n",
       "      <td>...</td>\n",
       "      <td>...</td>\n",
       "      <td>...</td>\n",
       "      <td>...</td>\n",
       "      <td>...</td>\n",
       "      <td>...</td>\n",
       "      <td>...</td>\n",
       "    </tr>\n",
       "    <tr>\n",
       "      <th>4720</th>\n",
       "      <td>0</td>\n",
       "      <td>0</td>\n",
       "      <td>0</td>\n",
       "      <td>0</td>\n",
       "      <td>0</td>\n",
       "      <td>0</td>\n",
       "      <td>0</td>\n",
       "      <td>0</td>\n",
       "      <td>0</td>\n",
       "      <td>0</td>\n",
       "      <td>...</td>\n",
       "      <td>0</td>\n",
       "      <td>0</td>\n",
       "      <td>0</td>\n",
       "      <td>0</td>\n",
       "      <td>0</td>\n",
       "      <td>0</td>\n",
       "      <td>0</td>\n",
       "      <td>0</td>\n",
       "      <td>0</td>\n",
       "      <td>0</td>\n",
       "    </tr>\n",
       "    <tr>\n",
       "      <th>4721</th>\n",
       "      <td>0</td>\n",
       "      <td>0</td>\n",
       "      <td>0</td>\n",
       "      <td>0</td>\n",
       "      <td>0</td>\n",
       "      <td>0</td>\n",
       "      <td>0</td>\n",
       "      <td>0</td>\n",
       "      <td>0</td>\n",
       "      <td>0</td>\n",
       "      <td>...</td>\n",
       "      <td>0</td>\n",
       "      <td>0</td>\n",
       "      <td>0</td>\n",
       "      <td>0</td>\n",
       "      <td>0</td>\n",
       "      <td>0</td>\n",
       "      <td>0</td>\n",
       "      <td>0</td>\n",
       "      <td>0</td>\n",
       "      <td>0</td>\n",
       "    </tr>\n",
       "    <tr>\n",
       "      <th>4722</th>\n",
       "      <td>0</td>\n",
       "      <td>0</td>\n",
       "      <td>0</td>\n",
       "      <td>0</td>\n",
       "      <td>0</td>\n",
       "      <td>0</td>\n",
       "      <td>0</td>\n",
       "      <td>0</td>\n",
       "      <td>0</td>\n",
       "      <td>0</td>\n",
       "      <td>...</td>\n",
       "      <td>0</td>\n",
       "      <td>0</td>\n",
       "      <td>0</td>\n",
       "      <td>0</td>\n",
       "      <td>0</td>\n",
       "      <td>0</td>\n",
       "      <td>0</td>\n",
       "      <td>0</td>\n",
       "      <td>0</td>\n",
       "      <td>0</td>\n",
       "    </tr>\n",
       "    <tr>\n",
       "      <th>4723</th>\n",
       "      <td>0</td>\n",
       "      <td>0</td>\n",
       "      <td>0</td>\n",
       "      <td>0</td>\n",
       "      <td>0</td>\n",
       "      <td>0</td>\n",
       "      <td>0</td>\n",
       "      <td>0</td>\n",
       "      <td>0</td>\n",
       "      <td>0</td>\n",
       "      <td>...</td>\n",
       "      <td>0</td>\n",
       "      <td>0</td>\n",
       "      <td>0</td>\n",
       "      <td>0</td>\n",
       "      <td>0</td>\n",
       "      <td>0</td>\n",
       "      <td>0</td>\n",
       "      <td>0</td>\n",
       "      <td>0</td>\n",
       "      <td>0</td>\n",
       "    </tr>\n",
       "    <tr>\n",
       "      <th>4724</th>\n",
       "      <td>0</td>\n",
       "      <td>0</td>\n",
       "      <td>0</td>\n",
       "      <td>0</td>\n",
       "      <td>0</td>\n",
       "      <td>0</td>\n",
       "      <td>0</td>\n",
       "      <td>0</td>\n",
       "      <td>0</td>\n",
       "      <td>0</td>\n",
       "      <td>...</td>\n",
       "      <td>0</td>\n",
       "      <td>0</td>\n",
       "      <td>0</td>\n",
       "      <td>0</td>\n",
       "      <td>0</td>\n",
       "      <td>0</td>\n",
       "      <td>0</td>\n",
       "      <td>0</td>\n",
       "      <td>0</td>\n",
       "      <td>0</td>\n",
       "    </tr>\n",
       "  </tbody>\n",
       "</table>\n",
       "<p>4725 rows × 10109 columns</p>\n",
       "</div>"
      ],
      "text/plain": [
       "      aa  aaa  aaaaah  aaabb  ab  abandoned  abcc  abide  abilities  ability  \\\n",
       "0      0    0       0      0   0          0     0      0          0        0   \n",
       "1      0    0       0      0   0          0     0      0          0        0   \n",
       "2      0    0       0      0   0          0     0      0          0        0   \n",
       "3      0    0       0      0   0          0     0      0          0        0   \n",
       "4      0    0       0      0   0          0     0      0          0        0   \n",
       "...   ..  ...     ...    ...  ..        ...   ...    ...        ...      ...   \n",
       "4720   0    0       0      0   0          0     0      0          0        0   \n",
       "4721   0    0       0      0   0          0     0      0          0        0   \n",
       "4722   0    0       0      0   0          0     0      0          0        0   \n",
       "4723   0    0       0      0   0          0     0      0          0        0   \n",
       "4724   0    0       0      0   0          0     0      0          0        0   \n",
       "\n",
       "      ...  zombie  zone  zones  zoo  zoom  zoomed  봉사를  세계로  숭실  진리와  \n",
       "0     ...       0     0      0    0     0       0    0    0   0    0  \n",
       "1     ...       0     0      0    0     0       0    0    0   0    0  \n",
       "2     ...       0     0      0    0     0       0    0    0   0    0  \n",
       "3     ...       0     0      0    0     0       0    0    0   0    0  \n",
       "4     ...       0     0      0    0     0       0    0    0   0    0  \n",
       "...   ...     ...   ...    ...  ...   ...     ...  ...  ...  ..  ...  \n",
       "4720  ...       0     0      0    0     0       0    0    0   0    0  \n",
       "4721  ...       0     0      0    0     0       0    0    0   0    0  \n",
       "4722  ...       0     0      0    0     0       0    0    0   0    0  \n",
       "4723  ...       0     0      0    0     0       0    0    0   0    0  \n",
       "4724  ...       0     0      0    0     0       0    0    0   0    0  \n",
       "\n",
       "[4725 rows x 10109 columns]"
      ]
     },
     "execution_count": 191,
     "metadata": {},
     "output_type": "execute_result"
    }
   ],
   "source": [
    "#create a dataframe from the sparse matrix\n",
    "#this is a more human-readable way to view the data\n",
    "bow_df_uiuc = pd.DataFrame(bag_of_words_uiuc.toarray(), columns=vectorizer.get_feature_names_out())\n",
    "bow_df_uiuc"
   ]
  },
  {
   "cell_type": "code",
   "execution_count": 192,
   "metadata": {},
   "outputs": [
    {
     "data": {
      "text/plain": [
       "the                                                                                                       4613\n",
       "to                                                                                                        3629\n",
       "and                                                                                                       2973\n",
       "you                                                                                                       2551\n",
       "of                                                                                                        1854\n",
       "                                                                                                          ... \n",
       "httpswwwwciacomnewsraresquirrelmemorializedonuoficampus                                                      1\n",
       "httpswwwurbanaillinoisussitesdefaultfilesattachmentslandlordtenantpdf                                        1\n",
       "httpswwwuoficreditunionorgcreditcreditcardshttpswwwuoficreditunionorgcreditcreditcards                       1\n",
       "httpswwwuniversityymcaorgwhatweofferprogramsdumprunhttpswwwuniversityymcaorgwhatweofferprogramsdumprun       1\n",
       "진리와                                                                                                          1\n",
       "Length: 10109, dtype: int64"
      ]
     },
     "execution_count": 192,
     "metadata": {},
     "output_type": "execute_result"
    }
   ],
   "source": [
    "#dataframes have a convenient method for summing the values in each column\n",
    "#this will give us the number of times each word appears in the dataset\n",
    "word_counts_illini = bow_df_uiuc.sum()\n",
    "#we can sort the values to see the most common words\n",
    "word_counts_illini = word_counts_illini.sort_values(ascending=False)\n",
    "\n",
    "#notice that the top words are not very informative, as they are common words that appear in many contexts\n",
    "#and bottom words include a lot of typos and other noise\n",
    "word_counts_illini"
   ]
  },
  {
   "cell_type": "code",
   "execution_count": 193,
   "metadata": {},
   "outputs": [
    {
     "data": {
      "text/plain": [
       "the                                                                                                       4613\n",
       "to                                                                                                        3629\n",
       "and                                                                                                       2973\n",
       "you                                                                                                       2551\n",
       "of                                                                                                        1854\n",
       "                                                                                                          ... \n",
       "httpswwwwciacomnewsraresquirrelmemorializedonuoficampus                                                      1\n",
       "httpswwwurbanaillinoisussitesdefaultfilesattachmentslandlordtenantpdf                                        1\n",
       "httpswwwuoficreditunionorgcreditcreditcardshttpswwwuoficreditunionorgcreditcreditcards                       1\n",
       "httpswwwuniversityymcaorgwhatweofferprogramsdumprunhttpswwwuniversityymcaorgwhatweofferprogramsdumprun       1\n",
       "진리와                                                                                                          1\n",
       "Length: 10109, dtype: int64"
      ]
     },
     "execution_count": 193,
     "metadata": {},
     "output_type": "execute_result"
    }
   ],
   "source": [
    "#dataframes have a convenient method for summing the values in each column\n",
    "#this will give us the number of times each word appears in the dataset\n",
    "word_counts_uiuc = bow_df_uiuc.sum()\n",
    "#we can sort the values to see the most common words\n",
    "word_counts_uiuc = word_counts_uiuc.sort_values(ascending=False)\n",
    "\n",
    "#notice that the top words are not very informative, as they are common words that appear in many contexts\n",
    "#and bottom words include a lot of typos and other noise\n",
    "word_counts_uiuc"
   ]
  },
  {
   "cell_type": "code",
   "execution_count": 194,
   "metadata": {},
   "outputs": [
    {
     "data": {
      "image/png": "[encoded data removed]",
      "text/plain": [
       "<Figure size 2000x1000 with 1 Axes>"
      ]
     },
     "metadata": {},
     "output_type": "display_data"
    }
   ],
   "source": [
    "word_counts_uiuc = word_counts_uiuc.head(10)\n",
    "plt.figure(figsize=(20,10))\n",
    "plt.bar(word_counts_uiuc.index, word_counts_uiuc.values)\n",
    "plt.xticks(rotation=45)\n",
    "plt.show()"
   ]
  },
  {
   "cell_type": "code",
   "execution_count": 195,
   "metadata": {},
   "outputs": [],
   "source": [
    "uiuc['lemmatized_text'] = uiuc['cleaned_text'].apply(lemmatize)"
   ]
  },
  {
   "cell_type": "code",
   "execution_count": 196,
   "metadata": {},
   "outputs": [
    {
     "data": {
      "text/plain": [
       "<4725x3882 sparse matrix of type '<class 'numpy.int64'>'\n",
       "\twith 49389 stored elements in Compressed Sparse Row format>"
      ]
     },
     "execution_count": 196,
     "metadata": {},
     "output_type": "execute_result"
    }
   ],
   "source": [
    "vectorizer = CountVectorizer(min_df=3, max_df=0.3, ngram_range=(1,2))\n",
    "bag_of_words_uiuc = vectorizer.fit_transform(uiuc['lemmatized_text'])\n",
    "bag_of_words_uiuc"
   ]
  },
  {
   "cell_type": "code",
   "execution_count": 197,
   "metadata": {},
   "outputs": [
    {
     "data": {
      "text/plain": [
       "not          1205\n",
       "like          534\n",
       "people        481\n",
       "good          389\n",
       "time          376\n",
       "             ... \n",
       "mask sick       3\n",
       "marville        3\n",
       "markdown        3\n",
       "maps            3\n",
       "luckily         3\n",
       "Length: 3882, dtype: int64"
      ]
     },
     "execution_count": 197,
     "metadata": {},
     "output_type": "execute_result"
    }
   ],
   "source": [
    "bow_df_uiuc = pd.DataFrame(bag_of_words_uiuc.toarray(), columns=vectorizer.get_feature_names_out())\n",
    "word_counts_uiuc = bow_df_uiuc.sum()\n",
    "word_counts_uiuc = word_counts_uiuc.sort_values(ascending=False)\n",
    "word_counts_uiuc"
   ]
  },
  {
   "cell_type": "code",
   "execution_count": 198,
   "metadata": {},
   "outputs": [
    {
     "data": {
      "image/png": "[encoded data removed]",
      "text/plain": [
       "<Figure size 2000x1000 with 1 Axes>"
      ]
     },
     "metadata": {},
     "output_type": "display_data"
    }
   ],
   "source": [
    "word_counts_uiuc = word_counts_uiuc / word_counts_uiuc.sum()\n",
    "plot_list = word_counts_uiuc.head(10)\n",
    "plt.figure(figsize=(20,10))\n",
    "plt.bar(plot_list.index, plot_list.values)\n",
    "plt.xticks(rotation=45)\n",
    "plt.show()"
   ]
  },
  {
   "cell_type": "code",
   "execution_count": 199,
   "metadata": {},
   "outputs": [],
   "source": [
    "my_plot_list_uiuc=word_counts_uiuc[['fire','difficult','english','fun','easy']]\n"
   ]
  },
  {
   "cell_type": "code",
   "execution_count": 200,
   "metadata": {},
   "outputs": [
    {
     "data": {
      "image/png": "[encoded data removed]",
      "text/plain": [
       "<Figure size 2000x1000 with 1 Axes>"
      ]
     },
     "metadata": {},
     "output_type": "display_data"
    }
   ],
   "source": [
    "plt.figure(figsize=(20,10))\n",
    "plt.bar(my_plot_list_uiuc.index, my_plot_list_uiuc.values)\n",
    "plt.xticks(rotation=45)\n",
    "plt.show()"
   ]
  },
  {
   "cell_type": "markdown",
   "metadata": {},
   "source": [
    "# #My Responses to Part 2\n",
    "The graphs that I made look very similar. The information from reddit shows that the Michigan sub-reddit is pretty much twice the size of the Illinois one. When comparing the relative freqeuncy of the words I chose, fire and difficult appear pretty much the same amount. However, English appears about 2-s times as much as it did in the Michigan reddit. Fun appears where less in the Illinois reddit as compared to the Michicagn reddit and easy appears way more in the Illinois as compared to the Michigan reddit. However, when comparing just the top 10 most commonly used words, they appear to very similar in their relative frequency. "
   ]
  },
  {
   "cell_type": "markdown",
   "metadata": {},
   "source": [
    "### Problem 3: using the provided combined dataframe, train a logistic regression model using the sklearn Logistic Regression implementation. https://scikit-learn.org/stable/modules/generated/sklearn.linear_model.LogisticRegression.html. Create a bag of words table from the combined data, and use that along with the \"label\" column to train the classifier. Please try this out and be prepared with issues or questions next Monday. We will be discussing in class"
   ]
  },
  {
   "cell_type": "code",
   "execution_count": 201,
   "metadata": {},
   "outputs": [],
   "source": [
    "uiuc=pd.read_csv(\"uiuc.csv\")\n",
    "mich=pd.read_csv(\"umich.csv\")\n",
    "\n",
    "#sample so we have even number of samples from each dataset\n",
    "mich=mich.sample(n=4725)\n",
    "\n",
    "#assign labels based on origin subreddit of comment\n",
    "uiuc['label']=1\n",
    "mich['label']=0\n",
    "\n",
    "#you will be working with the data csv for the rest of the question\n",
    "data=pd.concat([uiuc,mich])"
   ]
  },
  {
   "cell_type": "code",
   "execution_count": 202,
   "metadata": {},
   "outputs": [
    {
     "name": "stdout",
     "output_type": "stream",
     "text": [
      "Index(['Unnamed: 0', 'date', 'post_votes', 'text', 'user', 'com_votes',\n",
      "       'label'],\n",
      "      dtype='object')\n"
     ]
    }
   ],
   "source": [
    "print(data.columns)"
   ]
  },
  {
   "cell_type": "code",
   "execution_count": 203,
   "metadata": {},
   "outputs": [
    {
     "name": "stdout",
     "output_type": "stream",
     "text": [
      "   Unnamed: 0                 date  post_votes  \\\n",
      "0           0  2024-09-04 14:43:40           2   \n",
      "1           1  2024-09-04 14:43:40           2   \n",
      "2           2  2024-09-04 12:52:08           3   \n",
      "3           3  2024-09-04 12:52:08           3   \n",
      "4           4  2024-09-04 12:52:08           3   \n",
      "\n",
      "                                                                                                                                                                                                                                                                                                                                                                                                                                                                            text  \\\n",
      "0                                                                                                                                                            Have the same professor! And in lecture he did say we were gonna have to learn some of the stuff ourself \\r\\n\\r\\nI would recommend using online resources such as Paul’s Online Math Notes and Professor Leonard on YouTube. Personally, I’ve been learning the material from those sources before going to lecture   \n",
      "1                                                                                                                                                                                                                                                                                              Do you find it helpful to still go to the lecture? It seems to me that his slides are embedded with mistakes here and there. It makes it more confusing for me to understand him.   \n",
      "2                                                                                                                                                                                                                                                                                                                                                                                                                  Have you tried emailing University Housing to request access?   \n",
      "3  Purchasing Illini Cash should get you added to the Non-Resident Meal Plan card access level. These **generally** allow you access to whatever is considered the \"front door\" of the residence hall with access to the dining hall.\\r\\n\\r\\nAt PAR, that would be the doors facing the bus stop on the south side of the building. Only the mag stripe reader will work, prox access in (most) of the residence halls is currently only activated for residents with ADA needs.   \n",
      "4                                                                                                                                                                                                                                                                                                                                                                                                      Just did, thanks for the suggestion! It hadn't occurred to me to do that.   \n",
      "\n",
      "            user  com_votes  label  \\\n",
      "0       zhen3441          2      1   \n",
      "1        Kai2747          1      1   \n",
      "2  TurboBKTastic          2      1   \n",
      "3     HoosierCAB          2      1   \n",
      "4    Sector-Both          1      1   \n",
      "\n",
      "                                                                                                                                                                                                                                                                                                                                                                                                                                              cleaned_text  \n",
      "0                                                                                                                                                   have the same professor and in lecture he did say we were gonna have to learn some of the stuff ourself i would recommend using online resources such as pauls online math notes and professor leonard on youtube personally ive been learning the material from those sources before going to lecture  \n",
      "1                                                                                                                                                                                                                                                                           do you find it helpful to still go to the lecture it seems to me that his slides are embedded with mistakes here and there it makes it more confusing for me to understand him  \n",
      "2                                                                                                                                                                                                                                                                                                                                                                                             have you tried emailing university housing to request access  \n",
      "3  purchasing illini cash should get you added to the nonresident meal plan card access level these generally allow you access to whatever is considered the front door of the residence hall with access to the dining hall at par that would be the doors facing the bus stop on the south side of the building only the mag stripe reader will work prox access in most of the residence halls is currently only activated for residents with ada needs  \n",
      "4                                                                                                                                                                                                                                                                                                                                                                                    just did thanks for the suggestion it hadnt occurred to me to do that  \n"
     ]
    }
   ],
   "source": [
    "#clean and lemmatize the data csv\n",
    "data['cleaned_text'] = data['text'].apply(clean)\n",
    "print(data.head())\n",
    "\n",
    "data['lemmatized_text'] = data['cleaned_text'].apply(lemmatize)"
   ]
  },
  {
   "cell_type": "code",
   "execution_count": 204,
   "metadata": {},
   "outputs": [
    {
     "data": {
      "text/plain": [
       "<9450x16275 sparse matrix of type '<class 'numpy.int64'>'\n",
       "\twith 226325 stored elements in Compressed Sparse Row format>"
      ]
     },
     "execution_count": 204,
     "metadata": {},
     "output_type": "execute_result"
    }
   ],
   "source": [
    "#create a bag of words representation with count vectorizer\n",
    "vectorizer = CountVectorizer()\n",
    "bag_of_words_data= vectorizer.fit_transform(data['cleaned_text'])\n",
    "bag_of_words_data"
   ]
  },
  {
   "cell_type": "code",
   "execution_count": 205,
   "metadata": {},
   "outputs": [
    {
     "data": {
      "text/plain": [
       "0.8898412698412699"
      ]
     },
     "execution_count": 205,
     "metadata": {},
     "output_type": "execute_result"
    }
   ],
   "source": [
    "#use sklearn to train a logistic regression model\n",
    "from sklearn.feature_extraction.text import CountVectorizer\n",
    "from sklearn.model_selection import train_test_split\n",
    "from sklearn.linear_model import LogisticRegression\n",
    "from sklearn.metrics import accuracy_score\n",
    "\n",
    "#create bow representation of the text\n",
    "vectorizer = CountVectorizer(min_df=3, max_df=0.3,)\n",
    "X = vectorizer.fit_transform(data[\"cleaned_text\"])\n",
    "\n",
    "#use sentiment as training labels\n",
    "y = data[\"label\"]\n",
    "\n",
    "#split the data into training and testing\n",
    "#testing is hidden from the model during training\n",
    "#verify that your model can work on new data\n",
    "#X_train, X_test, y_train, y_test = train_test_split(X, y, test_size=0.2, random_state=42)\n",
    "\n",
    "#train the model\n",
    "#higher max_iter is always better, but depends on your computer power\n",
    "model = LogisticRegression(max_iter=1000)\n",
    "model.fit(X, y)\n",
    "\n",
    "#use trained value to see performance\n",
    "y_pred = model.predict(X)\n",
    "\n",
    "#print accuracy (% of unseen reviews guessed correctly)\n",
    "accuracy_score(y, y_pred)"
   ]
  },
  {
   "cell_type": "code",
   "execution_count": 206,
   "metadata": {},
   "outputs": [],
   "source": [
    "#report the accuracy of the model\n"
   ]
  },
  {
   "cell_type": "markdown",
   "metadata": {},
   "source": [
    "The accuracy of the model is very high. it is almost 89%. This means that using the cleaned text we can accurately predict 89% of the labels, or which schools reddit the comment came from."
   ]
  },
  {
   "cell_type": "markdown",
   "metadata": {},
   "source": [
    "#### Part 2: hold out part of the dataset using sklearn train_test_split (https://scikit-learn.org/stable/modules/generated/sklearn.model_selection.train_test_split.html). Pass in your previously generated bag of words as X and the label column as y. Use only the X_train and y_train for training and hold out the X_test and y_test to score the model on unseen data."
   ]
  },
  {
   "cell_type": "code",
   "execution_count": 207,
   "metadata": {},
   "outputs": [
    {
     "name": "stdout",
     "output_type": "stream",
     "text": [
      "Accuracy: 0.6989\n"
     ]
    }
   ],
   "source": [
    "from sklearn.model_selection import train_test_split\n",
    "\n",
    "# Assuming 'X' is your bag-of-words representation and 'y' is your label column\n",
    "X_train, X_test, y_train, y_test = train_test_split(X, y, test_size=0.2, random_state=42)\n",
    "\n",
    "model = LogisticRegression(max_iter=200)  # Increase max_iter if needed\n",
    "model.fit(X_train, y_train)\n",
    "\n",
    "# Predict on the test set\n",
    "y_pred = model.predict(X_test)\n",
    "\n",
    "# Evaluate the model\n",
    "accuracy = accuracy_score(y_test, y_pred)\n",
    "print(f\"Accuracy: {accuracy:.4f}\")"
   ]
  },
  {
   "cell_type": "code",
   "execution_count": 208,
   "metadata": {},
   "outputs": [],
   "source": [
    "# what is the accuracy of the model? Is it better or worse than previous?Why do you think it has changed? \n"
   ]
  },
  {
   "cell_type": "markdown",
   "metadata": {},
   "source": [
    "The accuracy of the split data is much lower than the non-split data. The non-split data had an accuracy of 89% compared to 69% accuracy of the split data. I think that this is because there is 20% more data that the model is trained on. Also, there could be data in this test set that is almost an outlier that the model cannot predict accurately, causing a decrease in accuracy for the split train-test model."
   ]
  },
  {
   "cell_type": "markdown",
   "metadata": {},
   "source": [
    "#### Part 3: Examine the top features of your model using the following code"
   ]
  },
  {
   "cell_type": "code",
   "execution_count": 209,
   "metadata": {},
   "outputs": [],
   "source": [
    "#get the coefficients of the model and plot the top 10 most positive and top 10 most negative coefficients\n",
    "#what do you notice about these words? Are they surprising or expected?\n"
   ]
  },
  {
   "cell_type": "markdown",
   "metadata": {},
   "source": [
    "Michigan is much more associated with negatie words and UIUC is more associated with positive words. Honestly, I think that this is expected as Michigan is known as a hard school. Why is 'texas' in the list of the most negative words that has data from Michigan and UIUC? Also, there are some positive words relating to RSO and activites at UIUC."
   ]
  },
  {
   "cell_type": "code",
   "execution_count": 210,
   "metadata": {},
   "outputs": [
    {
     "name": "stdout",
     "output_type": "stream",
     "text": [
      "       feature  coefficient\n",
      "3183     mcard    -1.712525\n",
      "1383      diag    -1.779924\n",
      "3085       lsa    -1.783582\n",
      "5752  waitlist    -1.843154\n",
      "5294     texas    -1.901734\n",
      "224        ann    -1.921920\n",
      "5549        um    -1.943105\n",
      "5551     umich    -2.415956\n",
      "2083    fresno    -2.446842\n",
      "3251  michigan    -2.938222\n",
      "         feature  coefficient\n",
      "5546        uiuc     2.571122\n",
      "2564    illinois     2.175790\n",
      "821    champaign     2.076800\n",
      "4513        rsos     1.947972\n",
      "2240    grainger     1.944649\n",
      "5636      urbana     1.843485\n",
      "2261       green     1.806040\n",
      "2563      illini     1.713645\n",
      "1257    danville     1.677539\n",
      "481   basketball     1.631034\n"
     ]
    }
   ],
   "source": [
    "coefficients = pd.DataFrame({'feature': vectorizer.get_feature_names_out(), 'coefficient': model.coef_[0]})\n",
    "coefficients = coefficients.sort_values('coefficient', ascending=False)\n",
    "top_10_positive = coefficients.head(10)\n",
    "top_10_negative = coefficients.tail(10)\n",
    "print(top_10_negative)\n",
    "print(top_10_positive)"
   ]
  },
  {
   "cell_type": "code",
   "execution_count": 211,
   "metadata": {},
   "outputs": [],
   "source": [
    "#examine these words and see if they make sense. Do they differentiate UIUC from another university?\n",
    "# not explicitly, but it looks like the more positive words are relating to UIUC and the more negative words are relating to Michigan. The model itself does not differntialte between the 2 schools but there are \n",
    "#jsut tendencies that there are more positve words relating to UIUC and more negative words relating to Michigan."
   ]
  },
  {
   "cell_type": "markdown",
   "metadata": {},
   "source": [
    "### Problem 4: Train a 10 topic topic model from the UIUC subreddit data using Gensim LDA. (https://radimrehurek.com/gensim/auto_examples/tutorials/run_lda.html) If you get here before Wednesday 9/11, don't rush to finish, but feel free to continue ahead. We will go through this in class. Print out the top words in each topic, and read through the words for each topic to decide the theme of the topic: remember this is subjective and there are no right or wrong answers. Print out a few comments with high frequencies of each topic and analyze if your topic labels were representative. "
   ]
  },
  {
   "cell_type": "code",
   "execution_count": 212,
   "metadata": {},
   "outputs": [
    {
     "name": "stdout",
     "output_type": "stream",
     "text": [
      "Requirement already satisfied: gensim in c:\\users\\jacob\\anaconda3\\envs\\is310\\lib\\site-packages (4.3.3)\n",
      "Requirement already satisfied: numpy<2.0,>=1.18.5 in c:\\users\\jacob\\anaconda3\\envs\\is310\\lib\\site-packages (from gensim) (1.26.4)\n",
      "Requirement already satisfied: scipy<1.14.0,>=1.7.0 in c:\\users\\jacob\\anaconda3\\envs\\is310\\lib\\site-packages (from gensim) (1.13.1)\n",
      "Requirement already satisfied: smart-open>=1.8.1 in c:\\users\\jacob\\anaconda3\\envs\\is310\\lib\\site-packages (from gensim) (7.1.0)\n",
      "Requirement already satisfied: wrapt in c:\\users\\jacob\\anaconda3\\envs\\is310\\lib\\site-packages (from smart-open>=1.8.1->gensim) (1.17.2)\n"
     ]
    }
   ],
   "source": [
    "!pip install gensim"
   ]
  },
  {
   "cell_type": "code",
   "execution_count": 213,
   "metadata": {},
   "outputs": [],
   "source": [
    "#train a lda topic model with gensim\n",
    "from gensim import corpora\n",
    "from gensim.models import LdaModel\n",
    "from gensim.matutils import Sparse2Corpus\n",
    "\n",
    "#convert bow X into a gensim corpus\n",
    "corpus = Sparse2Corpus(X, documents_columns=False)\n",
    "\n",
    "# Step 3: Create a dictionary from the vectorizer's vocabulary\n",
    "id2word = dict((v, k) for k, v in vectorizer.vocabulary_.items())"
   ]
  },
  {
   "cell_type": "code",
   "execution_count": 214,
   "metadata": {},
   "outputs": [
    {
     "data": {
      "text/plain": [
       "<gensim.matutils.Sparse2Corpus at 0x283fda30400>"
      ]
     },
     "execution_count": 214,
     "metadata": {},
     "output_type": "execute_result"
    }
   ],
   "source": [
    "corpus"
   ]
  },
  {
   "cell_type": "code",
   "execution_count": 215,
   "metadata": {},
   "outputs": [
    {
     "data": {
      "text/plain": [
       "[(0,\n",
       "  '0.025*\"for\" + 0.022*\"in\" + 0.015*\"of\" + 0.014*\"my\" + 0.012*\"it\" + 0.012*\"is\" + 0.012*\"thank\" + 0.011*\"aid\" + 0.011*\"that\" + 0.010*\"be\"'),\n",
       " (1,\n",
       "  '0.021*\"of\" + 0.018*\"that\" + 0.017*\"it\" + 0.015*\"this\" + 0.015*\"they\" + 0.013*\"is\" + 0.013*\"my\" + 0.013*\"your\" + 0.012*\"people\" + 0.012*\"just\"'),\n",
       " (2,\n",
       "  '0.033*\"it\" + 0.017*\"of\" + 0.015*\"they\" + 0.015*\"on\" + 0.014*\"is\" + 0.014*\"in\" + 0.014*\"are\" + 0.013*\"for\" + 0.013*\"if\" + 0.013*\"not\"'),\n",
       " (3,\n",
       "  '0.030*\"for\" + 0.021*\"in\" + 0.018*\"if\" + 0.015*\"is\" + 0.013*\"be\" + 0.013*\"of\" + 0.012*\"have\" + 0.011*\"it\" + 0.011*\"your\" + 0.011*\"are\"'),\n",
       " (4,\n",
       "  '0.031*\"it\" + 0.026*\"in\" + 0.019*\"was\" + 0.017*\"be\" + 0.015*\"of\" + 0.013*\"on\" + 0.012*\"that\" + 0.011*\"but\" + 0.009*\"so\" + 0.008*\"for\"'),\n",
       " (5,\n",
       "  '0.022*\"of\" + 0.018*\"but\" + 0.018*\"it\" + 0.017*\"in\" + 0.016*\"is\" + 0.015*\"that\" + 0.013*\"on\" + 0.013*\"my\" + 0.012*\"if\" + 0.012*\"as\"'),\n",
       " (6,\n",
       "  '0.038*\"of\" + 0.030*\"in\" + 0.023*\"that\" + 0.019*\"is\" + 0.017*\"are\" + 0.013*\"they\" + 0.012*\"or\" + 0.012*\"for\" + 0.012*\"not\" + 0.011*\"with\"'),\n",
       " (7,\n",
       "  '0.022*\"in\" + 0.017*\"is\" + 0.016*\"it\" + 0.012*\"if\" + 0.012*\"there\" + 0.012*\"on\" + 0.012*\"of\" + 0.011*\"at\" + 0.011*\"but\" + 0.011*\"for\"'),\n",
       " (8,\n",
       "  '0.025*\"of\" + 0.022*\"for\" + 0.019*\"selling\" + 0.016*\"in\" + 0.012*\"that\" + 0.011*\"texas\" + 0.010*\"are\" + 0.009*\"not\" + 0.009*\"can\" + 0.009*\"have\"'),\n",
       " (9,\n",
       "  '0.043*\"is\" + 0.033*\"of\" + 0.019*\"that\" + 0.016*\"this\" + 0.015*\"for\" + 0.014*\"it\" + 0.013*\"in\" + 0.013*\"are\" + 0.012*\"its\" + 0.009*\"on\"')]"
      ]
     },
     "execution_count": 215,
     "metadata": {},
     "output_type": "execute_result"
    }
   ],
   "source": [
    "#train the lda model\n",
    "lda_model = LdaModel(corpus=corpus, id2word=id2word, num_topics=10)\n",
    "\n",
    "#show the topics\n",
    "lda_model.print_topics()"
   ]
  },
  {
   "cell_type": "code",
   "execution_count": 218,
   "metadata": {},
   "outputs": [
    {
     "name": "stdout",
     "output_type": "stream",
     "text": [
      "\n",
      "--- Topic 0 ---\n",
      "is there a lower limit for that i have some illini cash left over from last year though it is less than \n",
      "bookstor\n",
      "\n",
      "teleport\n",
      "httpskcsaillinoiseduhttpskcsaillinoisedu\n",
      "\n",
      "--- Topic 1 ---\n",
      "fed although its not like they would need to do any undercover work to figure this shit out lol\n",
      "practice\n",
      "whats this\n",
      "do you have questions after reading about the rso\n",
      "love that some things never change about engineers\n",
      "\n",
      "--- Topic 2 ---\n",
      "do you find it helpful to still go to the lecture it seems to me that his slides are embedded with mistakes here and there it makes it more confusing for me to understand him\n",
      "purchasing illini cash should get you added to the nonresident meal plan card access level these generally allow you access to whatever is considered the front door of the residence hall with access to the dining hall at par that would be the doors facing the bus stop on the south side of the building only the mag stripe reader will work prox access in most of the residence halls is currently only activated for residents with ada needs\n",
      "take peoria charter to ohare and catch one of the million united flights a day between ord and ewr or american if youre a masochist and for some reason like flying them over united\n",
      "why dont u rent a room in grainger use the library website \n",
      "when you get to lower level employees in nonacademic areas of the school it quickly gets very beuracratic but beuracritc in the sense that youre dealing with people that basically work in customer service jobs that dont have the expectation of treating customers like you do in typical customer service jobs its not all that different from the dmv and getting attitude from employee for not particular reason just because the  people ahead if you they dealt with were missing all but  of the required documents you needed to show up with its annoying but its the type of thing that isnt changing any time soon so you kinda just gotta deal with it\n",
      "\n",
      "--- Topic 3 ---\n",
      "have the same professor and in lecture he did say we were gonna have to learn some of the stuff ourself i would recommend using online resources such as pauls online math notes and professor leonard on youtube personally ive been learning the material from those sources before going to lecture\n",
      "just did thanks for the suggestion it hadnt occurred to me to do that\n",
      "on the bright side no shadow ban\n",
      "yeah because studying to be a future starbucks barista isnt actually that stressful\n",
      "which humanities building specifically asking for a friend here\n",
      "\n",
      "--- Topic 4 ---\n",
      "i dont think there is any cheap used one left\n",
      "i did  now iam living in luxury penthouse in  green\n",
      "fly into newark\n",
      "youre in college grow up\n",
      "there are cameras everywhere on campus report it to public safety\n",
      "\n",
      "--- Topic 5 ---\n",
      "have you tried emailing university housing to request access\n",
      "basically you just need to get to ord and fly to newark from there youve got three options for that first you can take a bus peoria charter is a good option because they have service to ord from three stops in cu every two hours or so and more on busy travel days like school breaks itll take around  hours to get to ord and tickets around  each way you could also take the train but its a bit more complicated as amtraks routes from champaign to chicago will end up you at union station in downtown from there youll need to take the cta blue line to the airport its around a  hour train ride plus about  minutes on the cta line amtrak tickets are much cheaper though as they only cost around  if you book in advance plus another  for the cta ticket to the airport you also have more limited timing options as there are only  trains per day from champaign to chicago lastly you could fly there are two flights a day from champaign to ord on american but theyre operated by envoy air if that matters to you then you just take a connecting flight to ewr however this option is going to be the most expensive and will probably cost several hundred dollars\n",
      "mass mail when the weather is slightly warm and they need you to conserve energy\n",
      "i dont know anything about what happened but i guess they would not want to comment about it if only for privacy reasons\n",
      "pretty sure all of them\n",
      "\n",
      "--- Topic 6 ---\n",
      "i used to have the same problem you just have to make sure that you installed the configuration on your device if that wouldnt work register it\n",
      "one advantage of perplexity over some other genais is that it provides citations with its responses\n",
      "what are the activities in the club\n",
      "was it actually a suicide attempt i initially heard someone fell\n",
      "they never send info about someone who has that kind of event in their life if such a thing happens it is only the person in distress who is in danger  not you\n",
      "\n",
      "--- Topic 7 ---\n",
      "easiest cmiordewr if you want to factor cost and scheduling in peoria charterordewr\n",
      "peoria charter or other up to ohare there are very frequent flights between ord and ewr\n",
      "why would anyone want to go there\n",
      "looks like a key for a disk detainer lock commonly found on high end bike locks like kryptonite\n",
      "currently a student working in housing have never had a pleasant experience with anyone but other student workers literally just had an incident the other day where some woman i had never seen before snapped and scolded me for something like she was my mother it wasnt even work related\n",
      "\n",
      "--- Topic 8 ---\n",
      "theres a policy about fees for inactive accounts httpswwwhousingillinoisedudinepurchaseillinicash so you may not have any illini cash left you can check your existing balance at httpswebhousingillinoiseduillinicash other than that adding some amount of illini cash should get you added to the nonresident meal plan access level that gets you to dining areas during serving hours\n",
      "ayo what happened at grainger\n",
      "someone fell down the stairs and ambulance and police arrived\n",
      "im starting to read these nightly with my cup of joe after finishing my homework lmao i beg for an eventual review of everything at  north \n",
      "so you need  and  i highly doubt that lol\n",
      "\n",
      "--- Topic 9 ---\n",
      "howd you come back tho\n",
      "ill take a bus back\n",
      "hey man the humanities buildies dont have their rooftop and balcony access locked off just sayin engineers love data and boy is there alotta data behind locking those upper levels\n",
      "wtaf is wrong with you\n",
      "mine was a great opportunity job offer all caps but i refuse\n"
     ]
    }
   ],
   "source": [
    "import pandas as pd\n",
    "\n",
    "def get_dominant_topic(lda_model, corpus):\n",
    "    topic_results = []\n",
    "    for i, row in enumerate(lda_model[corpus]):\n",
    "        sorted_topics = sorted(row, key=lambda x: x[1], reverse=True)  # Sort topics by probability\n",
    "        dominant_topic = sorted_topics[0][0]  # Get the most probable topic\n",
    "        topic_results.append(dominant_topic)\n",
    "    return topic_results\n",
    "\n",
    "# Assign the dominant topic to each comment\n",
    "data['dominant_topic'] = get_dominant_topic(lda_model, corpus)\n",
    "\n",
    "# Print a few high-frequency comments for each topic\n",
    "for topic_num in range(10):  # Loop through all topics\n",
    "    print(f\"\\n--- Topic {topic_num} ---\")\n",
    "    topic_comments = data[data['dominant_topic'] == topic_num]['cleaned_text'].head(5)  # Get top 5 comments for each topic\n",
    "    for comment in topic_comments:\n",
    "        print(comment)"
   ]
  },
  {
   "cell_type": "markdown",
   "metadata": {},
   "source": [
    "The LDA model is taking 10 topics of groups of words that are associated with eachother, like a common theme. I used AI for the last python cell as I was having trouble printing out the 10 topics on my own.\n",
    "Topic 0 seems to be talking about purchasing stuff at the illini bookstore or dinning halls.\n",
    "Topic 1 seems to be all over the place. Maybe it is talking about the social aspects of UIUC.\n",
    "Topic 2 seeems to talk about lectures and dealing with adminstrative staff on campus.\n",
    "Topic 3 seems to talk about a specific class or professor and how students found outside resources to help them in the class.\n",
    "These topics are generally pretty scattered and all have generic words. But you can sort of break it down based on if it is dealing with classroom stuff, logistics of being on campus and whatnot."
   ]
  }
 ],
 "metadata": {
  "kernelspec": {
   "display_name": "is310",
   "language": "python",
   "name": "python3"
  },
  "language_info": {
   "codemirror_mode": {
    "name": "ipython",
    "version": 3
   },
   "file_extension": ".py",
   "mimetype": "text/x-python",
   "name": "python",
   "nbconvert_exporter": "python",
   "pygments_lexer": "ipython3",
   "version": "3.9.21"
  }
 },
 "nbformat": 4,
 "nbformat_minor": 2
}
